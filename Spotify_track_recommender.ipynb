{
  "cells": [
    {
      "cell_type": "markdown",
      "metadata": {
        "id": "h76xIKtPwgb0"
      },
      "source": [
        "# Spotify Track Recommender System with LightGCN"
      ]
    },
    {
      "cell_type": "code",
      "source": [
        "folder_link = \"https://drive.google.com/drive/folders/11EaHZrKOljp1ZRXRP9ZglLlJxQGT2Xo5?usp=drive_link\""
      ],
      "metadata": {
        "id": "_lqpJSzmq5Zt"
      },
      "execution_count": null,
      "outputs": []
    },
    {
      "cell_type": "code",
      "source": [
        "import re"
      ],
      "metadata": {
        "id": "zd8odue4dQdG"
      },
      "execution_count": null,
      "outputs": []
    },
    {
      "cell_type": "code",
      "execution_count": null,
      "metadata": {
        "colab": {
          "base_uri": "https://localhost:8080/"
        },
        "id": "kjRyaZREyKyG",
        "outputId": "68e20aa6-d6cc-49b0-ac71-3428c70c4bf9"
      },
      "outputs": [
        {
          "output_type": "stream",
          "name": "stdout",
          "text": [
            "Collecting torch-geometric\n",
            "  Downloading torch_geometric-2.6.1-py3-none-any.whl.metadata (63 kB)\n",
            "\u001b[?25l     \u001b[90m━━━━━━━━━━━━━━━━━━━━━━━━━━━━━━━━━━━━━━━━\u001b[0m \u001b[32m0.0/63.1 kB\u001b[0m \u001b[31m?\u001b[0m eta \u001b[36m-:--:--\u001b[0m\r\u001b[2K     \u001b[90m━━━━━━━━━━━━━━━━━━━━━━━━━━━━━━━━━━━━━━━━\u001b[0m \u001b[32m63.1/63.1 kB\u001b[0m \u001b[31m5.7 MB/s\u001b[0m eta \u001b[36m0:00:00\u001b[0m\n",
            "\u001b[?25hRequirement already satisfied: aiohttp in /usr/local/lib/python3.10/dist-packages (from torch-geometric) (3.11.2)\n",
            "Requirement already satisfied: fsspec in /usr/local/lib/python3.10/dist-packages (from torch-geometric) (2024.10.0)\n",
            "Requirement already satisfied: jinja2 in /usr/local/lib/python3.10/dist-packages (from torch-geometric) (3.1.4)\n",
            "Requirement already satisfied: numpy in /usr/local/lib/python3.10/dist-packages (from torch-geometric) (1.26.4)\n",
            "Requirement already satisfied: psutil>=5.8.0 in /usr/local/lib/python3.10/dist-packages (from torch-geometric) (5.9.5)\n",
            "Requirement already satisfied: pyparsing in /usr/local/lib/python3.10/dist-packages (from torch-geometric) (3.2.0)\n",
            "Requirement already satisfied: requests in /usr/local/lib/python3.10/dist-packages (from torch-geometric) (2.32.3)\n",
            "Requirement already satisfied: tqdm in /usr/local/lib/python3.10/dist-packages (from torch-geometric) (4.66.6)\n",
            "Requirement already satisfied: aiohappyeyeballs>=2.3.0 in /usr/local/lib/python3.10/dist-packages (from aiohttp->torch-geometric) (2.4.3)\n",
            "Requirement already satisfied: aiosignal>=1.1.2 in /usr/local/lib/python3.10/dist-packages (from aiohttp->torch-geometric) (1.3.1)\n",
            "Requirement already satisfied: attrs>=17.3.0 in /usr/local/lib/python3.10/dist-packages (from aiohttp->torch-geometric) (24.2.0)\n",
            "Requirement already satisfied: frozenlist>=1.1.1 in /usr/local/lib/python3.10/dist-packages (from aiohttp->torch-geometric) (1.5.0)\n",
            "Requirement already satisfied: multidict<7.0,>=4.5 in /usr/local/lib/python3.10/dist-packages (from aiohttp->torch-geometric) (6.1.0)\n",
            "Requirement already satisfied: propcache>=0.2.0 in /usr/local/lib/python3.10/dist-packages (from aiohttp->torch-geometric) (0.2.0)\n",
            "Requirement already satisfied: yarl<2.0,>=1.17.0 in /usr/local/lib/python3.10/dist-packages (from aiohttp->torch-geometric) (1.17.2)\n",
            "Requirement already satisfied: async-timeout<6.0,>=4.0 in /usr/local/lib/python3.10/dist-packages (from aiohttp->torch-geometric) (4.0.3)\n",
            "Requirement already satisfied: MarkupSafe>=2.0 in /usr/local/lib/python3.10/dist-packages (from jinja2->torch-geometric) (3.0.2)\n",
            "Requirement already satisfied: charset-normalizer<4,>=2 in /usr/local/lib/python3.10/dist-packages (from requests->torch-geometric) (3.4.0)\n",
            "Requirement already satisfied: idna<4,>=2.5 in /usr/local/lib/python3.10/dist-packages (from requests->torch-geometric) (3.10)\n",
            "Requirement already satisfied: urllib3<3,>=1.21.1 in /usr/local/lib/python3.10/dist-packages (from requests->torch-geometric) (2.2.3)\n",
            "Requirement already satisfied: certifi>=2017.4.17 in /usr/local/lib/python3.10/dist-packages (from requests->torch-geometric) (2024.8.30)\n",
            "Requirement already satisfied: typing-extensions>=4.1.0 in /usr/local/lib/python3.10/dist-packages (from multidict<7.0,>=4.5->aiohttp->torch-geometric) (4.12.2)\n",
            "Downloading torch_geometric-2.6.1-py3-none-any.whl (1.1 MB)\n",
            "\u001b[?25l   \u001b[90m━━━━━━━━━━━━━━━━━━━━━━━━━━━━━━━━━━━━━━━━\u001b[0m \u001b[32m0.0/1.1 MB\u001b[0m \u001b[31m?\u001b[0m eta \u001b[36m-:--:--\u001b[0m\r\u001b[2K   \u001b[90m━━━━━━━━━━━━━━━━━━━━━━━━━━━━━━━━━━━━━━━━\u001b[0m \u001b[32m1.1/1.1 MB\u001b[0m \u001b[31m60.2 MB/s\u001b[0m eta \u001b[36m0:00:00\u001b[0m\n",
            "\u001b[?25hInstalling collected packages: torch-geometric\n",
            "Successfully installed torch-geometric-2.6.1\n",
            "Collecting umap-learn\n",
            "  Downloading umap_learn-0.5.7-py3-none-any.whl.metadata (21 kB)\n",
            "Requirement already satisfied: numpy>=1.17 in /usr/local/lib/python3.10/dist-packages (from umap-learn) (1.26.4)\n",
            "Requirement already satisfied: scipy>=1.3.1 in /usr/local/lib/python3.10/dist-packages (from umap-learn) (1.13.1)\n",
            "Requirement already satisfied: scikit-learn>=0.22 in /usr/local/lib/python3.10/dist-packages (from umap-learn) (1.5.2)\n",
            "Requirement already satisfied: numba>=0.51.2 in /usr/local/lib/python3.10/dist-packages (from umap-learn) (0.60.0)\n",
            "Collecting pynndescent>=0.5 (from umap-learn)\n",
            "  Downloading pynndescent-0.5.13-py3-none-any.whl.metadata (6.8 kB)\n",
            "Requirement already satisfied: tqdm in /usr/local/lib/python3.10/dist-packages (from umap-learn) (4.66.6)\n",
            "Requirement already satisfied: llvmlite<0.44,>=0.43.0dev0 in /usr/local/lib/python3.10/dist-packages (from numba>=0.51.2->umap-learn) (0.43.0)\n",
            "Requirement already satisfied: joblib>=0.11 in /usr/local/lib/python3.10/dist-packages (from pynndescent>=0.5->umap-learn) (1.4.2)\n",
            "Requirement already satisfied: threadpoolctl>=3.1.0 in /usr/local/lib/python3.10/dist-packages (from scikit-learn>=0.22->umap-learn) (3.5.0)\n",
            "Downloading umap_learn-0.5.7-py3-none-any.whl (88 kB)\n",
            "\u001b[2K   \u001b[90m━━━━━━━━━━━━━━━━━━━━━━━━━━━━━━━━━━━━━━━━\u001b[0m \u001b[32m88.8/88.8 kB\u001b[0m \u001b[31m8.2 MB/s\u001b[0m eta \u001b[36m0:00:00\u001b[0m\n",
            "\u001b[?25hDownloading pynndescent-0.5.13-py3-none-any.whl (56 kB)\n",
            "\u001b[2K   \u001b[90m━━━━━━━━━━━━━━━━━━━━━━━━━━━━━━━━━━━━━━━━\u001b[0m \u001b[32m56.9/56.9 kB\u001b[0m \u001b[31m5.4 MB/s\u001b[0m eta \u001b[36m0:00:00\u001b[0m\n",
            "\u001b[?25hInstalling collected packages: pynndescent, umap-learn\n",
            "Successfully installed pynndescent-0.5.13 umap-learn-0.5.7\n"
          ]
        }
      ],
      "source": [
        "!pip install torch-geometric\n",
        "!pip install umap-learn"
      ]
    },
    {
      "cell_type": "code",
      "execution_count": null,
      "metadata": {
        "id": "ZcRLwdJAwx_t"
      },
      "outputs": [],
      "source": [
        "# General libraries\n",
        "import json\n",
        "from pathlib import Path as Data_Path\n",
        "import os\n",
        "from os.path import isfile, join\n",
        "import pickle\n",
        "import random\n",
        "\n",
        "import numpy as np\n",
        "import networkx as nx\n",
        "import pandas as pd\n",
        "from sklearn.metrics import f1_score, roc_auc_score\n",
        "import matplotlib.pyplot as plt\n",
        "%matplotlib inline\n",
        "\n",
        "from tqdm.notebook import tqdm"
      ]
    },
    {
      "cell_type": "code",
      "execution_count": null,
      "metadata": {
        "id": "ZebN7NChyimf"
      },
      "outputs": [],
      "source": [
        "# Import relevant ML libraries\n",
        "from typing import Optional, Union\n",
        "\n",
        "import torch\n",
        "from torch import Tensor\n",
        "import torch.nn as nn\n",
        "from torch.nn import Embedding, ModuleList, Linear\n",
        "import torch.nn.functional as F\n",
        "\n",
        "import torch_geometric\n",
        "import torch_geometric.nn as pyg_nn\n",
        "from torch_geometric.data import Data\n",
        "from torch_geometric.transforms import RandomLinkSplit\n",
        "from torch.nn.modules.loss import _Loss\n",
        "\n",
        "from torch_geometric.nn.conv import LGConv, SAGEConv\n",
        "from torch_geometric.typing import Adj, OptTensor, SparseTensor\n"
      ]
    },
    {
      "cell_type": "markdown",
      "metadata": {
        "id": "c09g18U6zG0r"
      },
      "source": [
        "We also set a random seed so that our work is reproducible!"
      ]
    },
    {
      "cell_type": "code",
      "execution_count": null,
      "metadata": {
        "id": "YfUhZDk9zHKR"
      },
      "outputs": [],
      "source": [
        "\n",
        "# set the seed for reproducibility\n",
        "seed = 224\n",
        "torch.manual_seed(seed)\n",
        "np.random.seed(seed)\n",
        "random.seed(seed)"
      ]
    },
    {
      "cell_type": "code",
      "execution_count": null,
      "metadata": {
        "id": "xEETBR85zKvf",
        "colab": {
          "base_uri": "https://localhost:8080/"
        },
        "outputId": "043e84a8-df55-4f03-e372-28b7e124f494"
      },
      "outputs": [
        {
          "output_type": "stream",
          "name": "stdout",
          "text": [
            "Mounted at /content/drive\n"
          ]
        }
      ],
      "source": [
        "from google.colab import drive\n",
        "drive.mount('/content/drive', force_remount=True)"
      ]
    },
    {
      "cell_type": "code",
      "execution_count": null,
      "metadata": {
        "id": "XQzoFZka13Wo"
      },
      "outputs": [],
      "source": [
        "MAIN_DIR = \"/content/drive/My Drive/SpotifyDataset\" # https://drive.google.com/drive/folders/11EaHZrKOljp1ZRXRP9ZglLlJxQGT2Xo5?usp=drive_link\n",
        "#p6772 = \"\"\n",
        "DATA_DIR = Data_Path('spotify_million_playlist_dataset/data')\n",
        "os.chdir(MAIN_DIR)"
      ]
    },
    {
      "cell_type": "code",
      "source": [
        "from google.colab import drive\n",
        "drive.mount('/content/drive')"
      ],
      "metadata": {
        "id": "bxBNd4rbev4L"
      },
      "execution_count": null,
      "outputs": []
    },
    {
      "cell_type": "code",
      "execution_count": null,
      "metadata": {
        "id": "o6Fs75xi2BNP",
        "colab": {
          "base_uri": "https://localhost:8080/"
        },
        "outputId": "acdf2724-150e-4226-9651-a5c88a25f3bb"
      },
      "outputs": [
        {
          "output_type": "stream",
          "name": "stdout",
          "text": [
            "{'name': 'Throwbacks', 'collaborative': 'false', 'pid': 0, 'modified_at': 1493424000, 'num_tracks': 52, 'num_albums': 47, 'num_followers': 1, 'tracks': [{'pos': 0, 'artist_name': 'Missy Elliott', 'track_uri': 'spotify:track:0UaMYEvWZi0ZqiDOoHU3YI', 'artist_uri': 'spotify:artist:2wIVse2owClT7go1WT98tk', 'track_name': 'Lose Control (feat. Ciara & Fat Man Scoop)', 'album_uri': 'spotify:album:6vV5UrXcfyQD1wu4Qo2I9K', 'duration_ms': 226863, 'album_name': 'The Cookbook'}, {'pos': 1, 'artist_name': 'Britney Spears', 'track_uri': 'spotify:track:6I9VzXrHxO9rA9A5euc8Ak', 'artist_uri': 'spotify:artist:26dSoYclwsYLMAKD3tpOr4', 'track_name': 'Toxic', 'album_uri': 'spotify:album:0z7pVBGOD7HCIB7S8eLkLI', 'duration_ms': 198800, 'album_name': 'In The Zone'}, {'pos': 2, 'artist_name': 'Beyoncé', 'track_uri': 'spotify:track:0WqIKmW4BTrj3eJFmnCKMv', 'artist_uri': 'spotify:artist:6vWDO969PvNqNYHIOW5v0m', 'track_name': 'Crazy In Love', 'album_uri': 'spotify:album:25hVFAxTlDvXbx2X2QkUkE', 'duration_ms': 235933, 'album_name': 'Dangerously In Love (Alben für die Ewigkeit)'}, {'pos': 3, 'artist_name': 'Justin Timberlake', 'track_uri': 'spotify:track:1AWQoqb9bSvzTjaLralEkT', 'artist_uri': 'spotify:artist:31TPClRtHm23RisEBtV3X7', 'track_name': 'Rock Your Body', 'album_uri': 'spotify:album:6QPkyl04rXwTGlGlcYaRoW', 'duration_ms': 267266, 'album_name': 'Justified'}, {'pos': 4, 'artist_name': 'Shaggy', 'track_uri': 'spotify:track:1lzr43nnXAijIGYnCT8M8H', 'artist_uri': 'spotify:artist:5EvFsr3kj42KNv97ZEnqij', 'track_name': \"It Wasn't Me\", 'album_uri': 'spotify:album:6NmFmPX56pcLBOFMhIiKvF', 'duration_ms': 227600, 'album_name': 'Hot Shot'}, {'pos': 5, 'artist_name': 'Usher', 'track_uri': 'spotify:track:0XUfyU2QviPAs6bxSpXYG4', 'artist_uri': 'spotify:artist:23zg3TcAtWQy7J6upgbUnj', 'track_name': 'Yeah!', 'album_uri': 'spotify:album:0vO0b1AvY49CPQyVisJLj0', 'duration_ms': 250373, 'album_name': 'Confessions'}, {'pos': 6, 'artist_name': 'Usher', 'track_uri': 'spotify:track:68vgtRHr7iZHpzGpon6Jlo', 'artist_uri': 'spotify:artist:23zg3TcAtWQy7J6upgbUnj', 'track_name': 'My Boo', 'album_uri': 'spotify:album:1RM6MGv6bcl6NrAG8PGoZk', 'duration_ms': 223440, 'album_name': 'Confessions'}, {'pos': 7, 'artist_name': 'The Pussycat Dolls', 'track_uri': 'spotify:track:3BxWKCI06eQ5Od8TY2JBeA', 'artist_uri': 'spotify:artist:6wPhSqRtPu1UhRCDX5yaDJ', 'track_name': 'Buttons', 'album_uri': 'spotify:album:5x8e8UcCeOgrOzSnDGuPye', 'duration_ms': 225560, 'album_name': 'PCD'}, {'pos': 8, 'artist_name': \"Destiny's Child\", 'track_uri': 'spotify:track:7H6ev70Weq6DdpZyyTmUXk', 'artist_uri': 'spotify:artist:1Y8cdNmUJH7yBTd9yOvr5i', 'track_name': 'Say My Name', 'album_uri': 'spotify:album:283NWqNsCA9GwVHrJk59CG', 'duration_ms': 271333, 'album_name': \"The Writing's On The Wall\"}, {'pos': 9, 'artist_name': 'OutKast', 'track_uri': 'spotify:track:2PpruBYCo4H7WOBJ7Q2EwM', 'artist_uri': 'spotify:artist:1G9G7WwrXka3Z1r7aIDjI7', 'track_name': 'Hey Ya! - Radio Mix / Club Mix', 'album_uri': 'spotify:album:1UsmQ3bpJTyK6ygoOOjG1r', 'duration_ms': 235213, 'album_name': 'Speakerboxxx/The Love Below'}, {'pos': 10, 'artist_name': 'Nelly Furtado', 'track_uri': 'spotify:track:2gam98EZKrF9XuOkU13ApN', 'artist_uri': 'spotify:artist:2jw70GZXlAI8QzWeY2bgRc', 'track_name': 'Promiscuous', 'album_uri': 'spotify:album:2yboV2QBcVGEhcRlYuPpDT', 'duration_ms': 242293, 'album_name': 'Loose'}, {'pos': 11, 'artist_name': 'Jesse McCartney', 'track_uri': 'spotify:track:4Y45aqo9QMa57rDsAJv40A', 'artist_uri': 'spotify:artist:2Hjj68yyUPiC0HKEOigcEp', 'track_name': 'Right Where You Want Me - Radio Edit Version', 'album_uri': 'spotify:album:6022khQj4Fsvvse8f3A4lF', 'duration_ms': 211693, 'album_name': 'Right Where You Want Me'}, {'pos': 12, 'artist_name': 'Jesse McCartney', 'track_uri': 'spotify:track:1HwpWwa6bnqqRhK8agG4RS', 'artist_uri': 'spotify:artist:2Hjj68yyUPiC0HKEOigcEp', 'track_name': 'Beautiful Soul', 'album_uri': 'spotify:album:2gidE8vgVOkYufANjuvj3S', 'duration_ms': 214226, 'album_name': 'Beautiful Soul'}, {'pos': 13, 'artist_name': 'Jesse McCartney', 'track_uri': 'spotify:track:20ORwCJusz4KS2PbTPVNKo', 'artist_uri': 'spotify:artist:2Hjj68yyUPiC0HKEOigcEp', 'track_name': \"Leavin'\", 'album_uri': 'spotify:album:2tDCfKFy2YW9N0IwNSRdOJ', 'duration_ms': 216880, 'album_name': 'Departure - Recharged'}, {'pos': 14, 'artist_name': 'Cassie', 'track_uri': 'spotify:track:7k6IzwMGpxnRghE7YosnXT', 'artist_uri': 'spotify:artist:27FGXRNruFoOdf1vP8dqcH', 'track_name': 'Me & U', 'album_uri': 'spotify:album:0j1qzjaJmsF1FkcICf3hRu', 'duration_ms': 192213, 'album_name': 'Cassie'}, {'pos': 15, 'artist_name': 'Omarion', 'track_uri': 'spotify:track:1Bv0Yl01xBDZD4OQP93fyl', 'artist_uri': 'spotify:artist:0f5nVCcR06GX8Qikz0COtT', 'track_name': 'Ice Box', 'album_uri': 'spotify:album:4cVVEOXyUaWo7vlDWIkKsI', 'duration_ms': 256426, 'album_name': '21'}, {'pos': 16, 'artist_name': 'Avril Lavigne', 'track_uri': 'spotify:track:4omisSlTk6Dsq2iQD7MA07', 'artist_uri': 'spotify:artist:0p4nmQO2msCgU4IF37Wi3j', 'track_name': 'Sk8er Boi', 'album_uri': 'spotify:album:7h6XeTzy0SRXDrFJeA9gO7', 'duration_ms': 204000, 'album_name': 'Let Go'}, {'pos': 17, 'artist_name': 'Chris Brown', 'track_uri': 'spotify:track:7xYnUQigPoIDAMPVK79NEq', 'artist_uri': 'spotify:artist:7bXgB6jMjp9ATFy66eO08Z', 'track_name': 'Run It!', 'album_uri': 'spotify:album:49gaz5rhWWgqCw61M9700v', 'duration_ms': 229866, 'album_name': 'Chris Brown'}, {'pos': 18, 'artist_name': 'Beyoncé', 'track_uri': 'spotify:track:6d8A5sAx9TfdeseDvfWNHd', 'artist_uri': 'spotify:artist:6vWDO969PvNqNYHIOW5v0m', 'track_name': 'Check On It - feat. Bun B and Slim Thug', 'album_uri': 'spotify:album:3MJHoQUI828kmB6IpjejbW', 'duration_ms': 210453, 'album_name': \"B'Day\"}, {'pos': 19, 'artist_name': \"Destiny's Child\", 'track_uri': 'spotify:track:4pmc2AxSEq6g7hPVlJCPyP', 'artist_uri': 'spotify:artist:1Y8cdNmUJH7yBTd9yOvr5i', 'track_name': \"Jumpin', Jumpin'\", 'album_uri': 'spotify:album:283NWqNsCA9GwVHrJk59CG', 'duration_ms': 230200, 'album_name': \"The Writing's On The Wall\"}, {'pos': 20, 'artist_name': 'Sheryl Crow', 'track_uri': 'spotify:track:215JYyyUnrJ98NK3KEwu6d', 'artist_uri': 'spotify:artist:4TKTii6gnOnUXQHyuo9JaD', 'track_name': 'Soak Up The Sun', 'album_uri': 'spotify:album:5NYcTXrRZHxNyRKVOd0vs1', 'duration_ms': 292306, 'album_name': \"C'Mon C'Mon\"}, {'pos': 21, 'artist_name': 'The Black Eyed Peas', 'track_uri': 'spotify:track:0uqPG793dkDDN7sCUJJIVC', 'artist_uri': 'spotify:artist:1yxSLGMDHlW21z4YXirZDS', 'track_name': 'Where Is The Love?', 'album_uri': 'spotify:album:1bNyYpkDRovmErm4QeDrpJ', 'duration_ms': 272533, 'album_name': 'Elephunk'}, {'pos': 22, 'artist_name': 'Bowling For Soup', 'track_uri': 'spotify:track:19Js5ypV6JKn4DMExHQbGc', 'artist_uri': 'spotify:artist:5ND0mGcL9SKSjWIjPd0xIb', 'track_name': \"Stacy's Mom\", 'album_uri': 'spotify:album:3Q7xpHmP8k3HryE0LQdIk0', 'duration_ms': 193042, 'album_name': \"I've Never Done Anything Like This\"}, {'pos': 23, 'artist_name': 'The Click Five', 'track_uri': 'spotify:track:1JURww012QnWAw0zZXi6Aa', 'artist_uri': 'spotify:artist:01lz5VBfkMFDteSA9pKJuP', 'track_name': 'Just The Girl', 'album_uri': 'spotify:album:7gZilZGYr8M7UwEeYvdAKZ', 'duration_ms': 234146, 'album_name': 'Greetings From Imrie House'}, {'pos': 24, 'artist_name': 'Chris Brown', 'track_uri': 'spotify:track:7DFnq8FYhHMCylykf6ZCxA', 'artist_uri': 'spotify:artist:7bXgB6jMjp9ATFy66eO08Z', 'track_name': 'Yo (Excuse Me Miss)', 'album_uri': 'spotify:album:49gaz5rhWWgqCw61M9700v', 'duration_ms': 229040, 'album_name': 'Chris Brown'}, {'pos': 25, 'artist_name': 'Jonas Brothers', 'track_uri': 'spotify:track:1TfAhjzRBWzYZ8IdUV3igl', 'artist_uri': 'spotify:artist:7gOdHgIoIKoe4i9Tta6qdD', 'track_name': 'Year 3000', 'album_uri': 'spotify:album:20RAjvZ9LX2FDuDU8RDuIl', 'duration_ms': 201960, 'album_name': 'Jonas Brothers'}, {'pos': 26, 'artist_name': 'Lil Mama', 'track_uri': 'spotify:track:1Y4ZdPOOgCUhBcKZOrUFiS', 'artist_uri': 'spotify:artist:5qK5bOC6wLtuLhG5KvU17c', 'track_name': 'Lip Gloss', 'album_uri': 'spotify:album:3vgVsm9GY3i39fZ7b1sqV5', 'duration_ms': 219773, 'album_name': 'Lip Gloss'}, {'pos': 27, 'artist_name': 'Cascada', 'track_uri': 'spotify:track:6MjljecHzHelUDismyKkba', 'artist_uri': 'spotify:artist:0N0d3kjwdY2h7UVuTdJGfp', 'track_name': 'Everytime We Touch - Radio Edit', 'album_uri': 'spotify:album:5DvuKZTzEKjm0oUuhP237C', 'duration_ms': 199120, 'album_name': 'Everytime We Touch'}, {'pos': 28, 'artist_name': 'Jason Derulo', 'track_uri': 'spotify:track:67T6l4q3zVjC5nZZPXByU8', 'artist_uri': 'spotify:artist:07YZf4WDAMNwqr4jfgOZ8y', 'track_name': 'Whatcha Say', 'album_uri': 'spotify:album:0aVJmVAeEx78nAA1rAKYf7', 'duration_ms': 221253, 'album_name': 'Jason Derulo'}, {'pos': 29, 'artist_name': 'Ne-Yo', 'track_uri': 'spotify:track:34ceTg8ChN5HjrqiIYCn9Q', 'artist_uri': 'spotify:artist:21E3waRsmPlU7jZsS13rcj', 'track_name': 'Miss Independent', 'album_uri': 'spotify:album:6dTn9vJSxVTIGm4Cu5dH4x', 'duration_ms': 232000, 'album_name': 'Year Of The Gentleman'}, {'pos': 30, 'artist_name': 'Miley Cyrus', 'track_uri': 'spotify:track:5Q0Nhxo0l2bP3pNjpGJwV1', 'artist_uri': 'spotify:artist:5YGY8feqx7naU7z4HrwZM6', 'track_name': 'Party In The U.S.A.', 'album_uri': 'spotify:album:64aKkqxc3Ur2LYIKeS5osS', 'duration_ms': 202066, 'album_name': 'The Time Of Our Lives'}, {'pos': 31, 'artist_name': 'Boys Like Girls', 'track_uri': 'spotify:track:6GIrIt2M39wEGwjCQjGChX', 'artist_uri': 'spotify:artist:0vWCyXMrrvMlCcepuOJaGI', 'track_name': 'The Great Escape', 'album_uri': 'spotify:album:4WqgusSAgXkrjbXzqdBY68', 'duration_ms': 206520, 'album_name': 'Boys Like Girls'}, {'pos': 32, 'artist_name': 'Iyaz', 'track_uri': 'spotify:track:4E5P1XyAFtrjpiIxkydly4', 'artist_uri': 'spotify:artist:5tKXB9uuebKE34yowVaU3C', 'track_name': 'Replay', 'album_uri': 'spotify:album:44hyrGuZKAvITbmrlhryf8', 'duration_ms': 182306, 'album_name': 'Replay'}, {'pos': 33, 'artist_name': 'Chris Brown', 'track_uri': 'spotify:track:3H1LCvO3fVsK2HPguhbml0', 'artist_uri': 'spotify:artist:7bXgB6jMjp9ATFy66eO08Z', 'track_name': 'Forever', 'album_uri': 'spotify:album:1UtE4zAlSE2TlKmTFgrTg5', 'duration_ms': 277106, 'album_name': 'Exclusive - The Forever Edition'}, {'pos': 34, 'artist_name': 'Kesha', 'track_uri': 'spotify:track:3uoQULcUWfnt6nc6J7Vgai', 'artist_uri': 'spotify:artist:6LqNN22kT3074XbTVUrhzX', 'track_name': 'Your Love Is My Drug', 'album_uri': 'spotify:album:5peRwC6pQh8eaoIPtvmmOB', 'duration_ms': 187133, 'album_name': 'Animal'}, {'pos': 35, 'artist_name': 'Ne-Yo', 'track_uri': 'spotify:track:2nbClS09zsIAqNkshg6jnp', 'artist_uri': 'spotify:artist:21E3waRsmPlU7jZsS13rcj', 'track_name': 'Closer', 'album_uri': 'spotify:album:1nv3KEXZPmcwOXMoLTs1vn', 'duration_ms': 234360, 'album_name': 'Year Of The Gentleman'}, {'pos': 36, 'artist_name': 'Justin Bieber', 'track_uri': 'spotify:track:69ghzc538EQSVon2Gm3wrr', 'artist_uri': 'spotify:artist:1uNFoZAHBGtllmzznpCI3s', 'track_name': 'One Less Lonely Girl', 'album_uri': 'spotify:album:1rG5TDs3jYh6OU753I54CI', 'duration_ms': 229106, 'album_name': 'My World'}, {'pos': 37, 'artist_name': 'M.I.A.', 'track_uri': 'spotify:track:1kusepF3AacIEtUTYrw4GV', 'artist_uri': 'spotify:artist:0QJIPDAEDILuo8AIq3pMuU', 'track_name': 'Paper Planes', 'album_uri': 'spotify:album:1Lymt1abGCr3J06bbnmWca', 'duration_ms': 203760, 'album_name': 'Kala'}, {'pos': 38, 'artist_name': 'The Killers', 'track_uri': 'spotify:track:7oK9VyNzrYvRFo7nQEYkWN', 'artist_uri': 'spotify:artist:0C0XlULifJtAgn6ZNCW2eu', 'track_name': 'Mr. Brightside', 'album_uri': 'spotify:album:4undIeGmofnAYKhnDclN1w', 'duration_ms': 222586, 'album_name': 'Hot Fuss'}, {'pos': 39, 'artist_name': 'blink-182', 'track_uri': 'spotify:track:12qZHAeOyTf93YAWvGDTat', 'artist_uri': 'spotify:artist:6FBDaR13swtiWwGhX1WQsP', 'track_name': 'All The Small Things', 'album_uri': 'spotify:album:1fF8kYX49s5Ufv4XEY5sjW', 'duration_ms': 168000, 'album_name': 'Enema Of The State'}, {'pos': 40, 'artist_name': 'The Pussycat Dolls', 'track_uri': 'spotify:track:2jFlMILIQzs7lSFudG9lbo', 'artist_uri': 'spotify:artist:6wPhSqRtPu1UhRCDX5yaDJ', 'track_name': 'Beep', 'album_uri': 'spotify:album:0ylxpXE00fVxh6d60tevT8', 'duration_ms': 229360, 'album_name': 'PCD'}, {'pos': 41, 'artist_name': 'Justin Bieber', 'track_uri': 'spotify:track:4I2GqMe7L2ccMpUbnDzYLH', 'artist_uri': 'spotify:artist:1uNFoZAHBGtllmzznpCI3s', 'track_name': 'Somebody To Love', 'album_uri': 'spotify:album:6gdLfnf2vdNlMTyhJHaDLs', 'duration_ms': 220920, 'album_name': 'My Worlds'}, {'pos': 42, 'artist_name': 'The All-American Rejects', 'track_uri': 'spotify:track:5lDriBxJd22IhOH9zTcFrV', 'artist_uri': 'spotify:artist:3vAaWhdBR38Q02ohXqaNHT', 'track_name': 'Dirty Little Secret', 'album_uri': 'spotify:album:3PWEGZ6CYvXRnr0JCECsDe', 'duration_ms': 193653, 'album_name': 'Move Along'}, {'pos': 43, 'artist_name': 'Justin Bieber', 'track_uri': 'spotify:track:2eJ8ij1T3cNUKiGdcUvKhy', 'artist_uri': 'spotify:artist:1uNFoZAHBGtllmzznpCI3s', 'track_name': 'Baby', 'album_uri': 'spotify:album:6gdLfnf2vdNlMTyhJHaDLs', 'duration_ms': 213973, 'album_name': 'My Worlds'}, {'pos': 44, 'artist_name': 'Vanessa Carlton', 'track_uri': 'spotify:track:5y69gQtK33qxb8a24ACkCy', 'artist_uri': 'spotify:artist:5ILrArfIV0tMURcHJN8Q07', 'track_name': 'A Thousand Miles', 'album_uri': 'spotify:album:7D6BFTArx2ajtkKRVXIKO2', 'duration_ms': 237493, 'album_name': 'Be Not Nobody'}, {'pos': 45, 'artist_name': 'Cris Cab', 'track_uri': 'spotify:track:1X5WGCrUMuwRFuYU1eAo2I', 'artist_uri': 'spotify:artist:7vWBZm3sQ8yQvfV4nXxHXK', 'track_name': 'Livin on Sunday', 'album_uri': 'spotify:album:2kNznk4KDkYXifzOAUDoXN', 'duration_ms': 201230, 'album_name': 'Red Road'}, {'pos': 46, 'artist_name': 'Miley Cyrus', 'track_uri': 'spotify:track:3utIAb67sOu0QHxBE88P1M', 'artist_uri': 'spotify:artist:5YGY8feqx7naU7z4HrwZM6', 'track_name': 'See You Again', 'album_uri': 'spotify:album:6SkirMQoL4QhnXOM5MH5El', 'duration_ms': 190453, 'album_name': 'See You Again'}, {'pos': 47, 'artist_name': 'Jesse McCartney', 'track_uri': 'spotify:track:3jkdQNkDTxxXtjSO4l0o1H', 'artist_uri': 'spotify:artist:2Hjj68yyUPiC0HKEOigcEp', 'track_name': 'How Do You Sleep? - Featuring Ludacris', 'album_uri': 'spotify:album:2tDCfKFy2YW9N0IwNSRdOJ', 'duration_ms': 208333, 'album_name': 'Departure - Recharged'}, {'pos': 48, 'artist_name': 'Demi Lovato', 'track_uri': 'spotify:track:5c1sfI6wIQEsSUw0xrkFdl', 'artist_uri': 'spotify:artist:6S2OmqARrzebs0tKUEyXyp', 'track_name': 'This Is Me', 'album_uri': 'spotify:album:6vykWEBzBfEKYJxEFR1AQl', 'duration_ms': 189186, 'album_name': 'Camp Rock Original Soundtrack'}, {'pos': 49, 'artist_name': 'Avril Lavigne', 'track_uri': 'spotify:track:6sqNctd7MlJoKDOxPVCAvU', 'artist_uri': 'spotify:artist:0p4nmQO2msCgU4IF37Wi3j', 'track_name': 'My Happy Ending', 'album_uri': 'spotify:album:7851Vsjv3apS52sXUik6iF', 'duration_ms': 242413, 'album_name': 'Under My Skin'}, {'pos': 50, 'artist_name': 'We The Kings', 'track_uri': 'spotify:track:1b7vg5T9YKR3NNqXfBYRF7', 'artist_uri': 'spotify:artist:3ao3jf5d70Tf4fPh2bnXVl', 'track_name': 'Check Yes Juliet', 'album_uri': 'spotify:album:2F1hfUOuMnOxtSfrktL8VX', 'duration_ms': 220133, 'album_name': 'We The Kings'}, {'pos': 51, 'artist_name': 'Boys Like Girls', 'track_uri': 'spotify:track:6GIrIt2M39wEGwjCQjGChX', 'artist_uri': 'spotify:artist:0vWCyXMrrvMlCcepuOJaGI', 'track_name': 'The Great Escape', 'album_uri': 'spotify:album:4WqgusSAgXkrjbXzqdBY68', 'duration_ms': 206520, 'album_name': 'Boys Like Girls'}], 'num_edits': 6, 'duration_ms': 11532414, 'num_artists': 37}\n"
          ]
        }
      ],
      "source": [
        "with open(f\"{DATA_DIR}/{os.listdir(DATA_DIR)[0]}\") as jf:\n",
        "  example_file = json.load(jf)\n",
        "\n",
        "print(example_file['playlists'][0])"
      ]
    },
    {
      "cell_type": "code",
      "execution_count": null,
      "metadata": {
        "id": "GISA_Bsw3PT8"
      },
      "outputs": [],
      "source": [
        "class Track:\n",
        "\n",
        "  def __init__(self, track_dict, playlist):\n",
        "    self.uri = track_dict[\"track_uri\"]\n",
        "    self.name = track_dict[\"track_name\"]\n",
        "    self.artist_uri = track_dict[\"artist_uri\"]\n",
        "    self.artist_name = track_dict[\"artist_name\"]\n",
        "    self.playlist = playlist\n",
        "\n",
        "  def __str__(self):\n",
        "    return f\"Track {self.uri} called {self.name} by {self.artist_uri} ({self.artist_name}) in playlist {self.playlist}.\"\n",
        "\n",
        "  def __repr__(self):\n",
        "    return f\"Track {self.uri}\"\n",
        "\n",
        "class Playlist:\n",
        "\n",
        "  def __init__(self, json_data, index):\n",
        "\n",
        "    self.name = f\"playlist_{index}\"\n",
        "    self.title = json_data[\"name\"]\n",
        "    self.data = json_data\n",
        "\n",
        "    self.tracks = {}\n",
        "    self.artists = []\n",
        "\n",
        "  def load_tracks(self):\n",
        "\n",
        "    tracks_list = self.data[\"tracks\"]\n",
        "    self.tracks = {x[\"track_uri\"] : Track(x, self.name) for x in tracks_list}\n",
        "    self.artists = [x[\"artist_uri\"] for x in tracks_list]\n",
        "\n",
        "  def __str__(self):\n",
        "    return f\"Playlist {self.name} with {len(self.tracks)} tracks loaded.\"\n",
        "\n",
        "  def __repr__(self):\n",
        "    return f\"Playlist {self.name}\"\n",
        "\n",
        "class JSONFile:\n",
        "\n",
        "  def __init__(self, data_path, file_name, start_index):\n",
        "\n",
        "    self.file_name = file_name\n",
        "    self.start_index = start_index\n",
        "\n",
        "    with open(join(data_path, file_name)) as json_file:\n",
        "      json_data = json.load(json_file)\n",
        "    self.data = json_data\n",
        "\n",
        "    self.playlists = {}\n",
        "\n",
        "  def process_file(self):\n",
        "    \"\"\" Call this function to load all of the playlists in the json data.\"\"\"\n",
        "\n",
        "    for i, playlist_json in enumerate(self.data[\"playlists\"]):\n",
        "      playlist = Playlist(playlist_json, self.start_index + i)\n",
        "      playlist.load_tracks()\n",
        "      self.playlists[playlist.name] = playlist\n",
        "\n",
        "  def __str__(self):\n",
        "    return f\"JSON {self.file_name} has {len(self.playlists)} playlists loaded.\"\n",
        "\n",
        "  def __repr__(self):\n",
        "    return self.file_name\n"
      ]
    },
    {
      "cell_type": "markdown",
      "metadata": {
        "id": "gm7h6uEe3TY6"
      },
      "source": [
        "Load files"
      ]
    },
    {
      "cell_type": "code",
      "execution_count": null,
      "metadata": {
        "id": "5q_VxvlC3Vsd",
        "colab": {
          "base_uri": "https://localhost:8080/",
          "height": 49,
          "referenced_widgets": [
            "85686b590d21437eaeba81b14ec7b1ef",
            "9b8798b5f8d14d12b9fd68f6211a8a0d",
            "093dc3be48ff4641954f2ec6ffc97179",
            "72edc9539c5d4148b214a9c7510a605b",
            "9dbab0f72a004fab9b4b9c7e3535b9d6",
            "d681f6d4d0a54b038803dde7992f3146",
            "724b0a6f9db2456a89abab7934ff5865",
            "62ad9584b61642c0864b5f23eb1438da",
            "65c765d0703d486784cd8a29e6faccb4",
            "38ef07078d9d42219676ce4c0d8aa4dd",
            "d597ff897547459285996cf320db4d29"
          ]
        },
        "outputId": "642c394d-e1f5-4f02-e6b6-2acc280e591f"
      },
      "outputs": [
        {
          "output_type": "display_data",
          "data": {
            "text/plain": [
              "Files processed:   0%|          | 0/30 [00:00<?, ?files/s]"
            ],
            "application/vnd.jupyter.widget-view+json": {
              "version_major": 2,
              "version_minor": 0,
              "model_id": "85686b590d21437eaeba81b14ec7b1ef"
            }
          },
          "metadata": {}
        }
      ],
      "source": [
        "DATA_PATH = Data_Path('spotify_million_playlist_dataset/data')\n",
        "N_FILES_TO_USE = 30\n",
        "\n",
        "file_names = sorted(os.listdir(DATA_PATH))\n",
        "file_names_to_use = file_names[:N_FILES_TO_USE]\n",
        "\n",
        "n_playlists = 0\n",
        "\n",
        "# load each json file, and store it in a list of files\n",
        "JSONs = []\n",
        "for file_name in tqdm(file_names_to_use, desc='Files processed: ', unit='files', total=len(file_names_to_use)):\n",
        "  json_file = JSONFile(DATA_PATH, file_name, n_playlists)\n",
        "  json_file.process_file()\n",
        "  n_playlists += len(json_file.playlists)\n",
        "  JSONs.append(json_file)"
      ]
    },
    {
      "cell_type": "code",
      "execution_count": null,
      "metadata": {
        "id": "6CRCzR4F3fIj",
        "colab": {
          "base_uri": "https://localhost:8080/",
          "height": 49,
          "referenced_widgets": [
            "482da0dc9bb94e96b66f73d8bff06023",
            "50373d2fc2e84fa5aa35ff8c2f600c5b",
            "a3e41c870e2640d0b644551d5e5d4574",
            "8895d17e5c7b49aabf73f3a138735ec3",
            "d6abcdbbb5594e6f9bebaab3beae2ba5",
            "9c856fd75ba849e3a0d4fb51acdafca5",
            "0d4e046b8b594b719896af6bee060c28",
            "497ff93625a64e5cb13162a2c95c07ca",
            "82e9aabfd9a04a77889bcc1571f2befe",
            "3b1d9ee76af940feb4e570fce8a05554",
            "810765f096f949fe884a9ac1e330a65f"
          ]
        },
        "outputId": "fa0f6caf-303b-457a-bfe7-62e3c5b13068"
      },
      "outputs": [
        {
          "output_type": "display_data",
          "data": {
            "text/plain": [
              "  0%|          | 0/30 [00:00<?, ?it/s]"
            ],
            "application/vnd.jupyter.widget-view+json": {
              "version_major": 2,
              "version_minor": 0,
              "model_id": "482da0dc9bb94e96b66f73d8bff06023"
            }
          },
          "metadata": {}
        }
      ],
      "source": [
        "playlist_data = {}\n",
        "playlists = []\n",
        "tracks = []\n",
        "\n",
        "# build list of all unique playlists, tracks\n",
        "for json_file in tqdm(JSONs):\n",
        "  playlists += [p.name for p in json_file.playlists.values()]\n",
        "  tracks += [track.uri for playlist in json_file.playlists.values() for track in list(playlist.tracks.values())]\n",
        "  playlist_data = playlist_data | json_file.playlists"
      ]
    },
    {
      "cell_type": "markdown",
      "metadata": {
        "id": "D-PZ-D5e3g41"
      },
      "source": [
        "\n",
        "\n",
        "Graph Creation"
      ]
    },
    {
      "cell_type": "code",
      "execution_count": null,
      "metadata": {
        "id": "bknzrQeO3jLx",
        "colab": {
          "base_uri": "https://localhost:8080/"
        },
        "outputId": "f63e6b8f-79d2-4344-cab5-0142aba0e76e"
      },
      "outputs": [
        {
          "output_type": "stream",
          "name": "stdout",
          "text": [
            "Num nodes: 368020 . Num edges: 1983411\n"
          ]
        }
      ],
      "source": [
        "## create graph from these lists\n",
        "\n",
        "# adding nodes\n",
        "G = nx.Graph()\n",
        "G.add_nodes_from([\n",
        "    (p, {'name':p, \"node_type\" : \"playlist\"}) for p in playlists\n",
        "])\n",
        "G.add_nodes_from([\n",
        "    (t, {'name':t, \"node_type\" : \"track\"}) for t in tracks\n",
        "])\n",
        "\n",
        "# adding edges\n",
        "edge_list = []\n",
        "for p_name, playlist in playlist_data.items():\n",
        "  edge_list += [(p_name, t) for t in playlist.tracks]\n",
        "G.add_edges_from(edge_list)\n",
        "\n",
        "print('Num nodes:', G.number_of_nodes(), '. Num edges:', G.number_of_edges())"
      ]
    },
    {
      "cell_type": "markdown",
      "metadata": {
        "id": "_5lWagWm-hU5"
      },
      "source": [
        "kcore, remove the others with less connections"
      ]
    },
    {
      "cell_type": "code",
      "execution_count": null,
      "metadata": {
        "id": "VdoTOBUY-kRW"
      },
      "outputs": [],
      "source": [
        "kcore = 20\n",
        "G = nx.k_core(G, kcore)"
      ]
    },
    {
      "cell_type": "markdown",
      "metadata": {
        "id": "B5RmYSBE_aqn"
      },
      "source": [
        "## Constructing a graph dataset"
      ]
    },
    {
      "cell_type": "markdown",
      "metadata": {
        "id": "XTz_hT6R_hWv"
      },
      "source": [
        "In order to use our graph with the graph. machine learning packages we\n",
        "\n",
        "---\n",
        "\n",
        "installed, we need to do a bit of processing of the graph first."
      ]
    },
    {
      "cell_type": "code",
      "source": [
        "print('Num nodes:', G.number_of_nodes(), '. Num edges:', G.number_of_edges())"
      ],
      "metadata": {
        "colab": {
          "base_uri": "https://localhost:8080/"
        },
        "id": "Kq52LnH5g8QF",
        "outputId": "0b1b77a8-2383-459d-a2ce-3b572b0db1f9"
      },
      "execution_count": null,
      "outputs": [
        {
          "output_type": "stream",
          "name": "stdout",
          "text": [
            "Num nodes: 31194 . Num edges: 1078584\n"
          ]
        }
      ]
    },
    {
      "cell_type": "code",
      "execution_count": null,
      "metadata": {
        "colab": {
          "base_uri": "https://localhost:8080/"
        },
        "id": "Mrcv7dez_wBd",
        "outputId": "d3dd7a0b-ca7b-45a0-e4c6-0a9b7e00d9f3"
      },
      "outputs": [
        {
          "output_type": "execute_result",
          "data": {
            "text/plain": [
              "(18084, 13110)"
            ]
          },
          "metadata": {},
          "execution_count": 14
        }
      ],
      "source": [
        "n_nodes, n_edges = G.number_of_nodes(), G.number_of_edges()\n",
        "\n",
        "# by sorting them we get an ordering playlist1, ..., playlistN, track1, ..., trackN\n",
        "sorted_nodes = sorted(list(G.nodes()))\n",
        "\n",
        "# create dictionaries to index to 0 to n_nodes, will be necessary for when we are using tensors\n",
        "node2id = dict(zip(sorted_nodes, np.arange(n_nodes)))\n",
        "id2node = dict(zip(np.arange(n_nodes), sorted_nodes))\n",
        "\n",
        "G = nx.relabel_nodes(G, node2id)\n",
        "\n",
        "# also keep track of how many playlists, tracks we have\n",
        "playlists_idx = [i for i, v in enumerate(node2id.keys()) if \"playlist\" in v]\n",
        "tracks_idx = [i for i, v in enumerate(node2id.keys()) if \"track\" in v]\n",
        "\n",
        "n_playlists = np.max(playlists_idx) + 1\n",
        "n_tracks = n_nodes - n_playlists\n",
        "\n",
        "n_playlists, n_tracks"
      ]
    },
    {
      "cell_type": "code",
      "execution_count": null,
      "metadata": {
        "colab": {
          "base_uri": "https://localhost:8080/"
        },
        "id": "VbCGwwoZqjm2",
        "outputId": "61eb782e-121b-4338-bc1f-31aa3204986a"
      },
      "outputs": [
        {
          "output_type": "execute_result",
          "data": {
            "text/plain": [
              "31194"
            ]
          },
          "metadata": {},
          "execution_count": 15
        }
      ],
      "source": [
        "n_playlists + n_tracks"
      ]
    },
    {
      "cell_type": "code",
      "execution_count": null,
      "metadata": {
        "colab": {
          "base_uri": "https://localhost:8080/"
        },
        "id": "RC6QW-frp6Nt",
        "outputId": "adee2abd-c17b-4b4b-f533-a4d5111bd5e2"
      },
      "outputs": [
        {
          "output_type": "stream",
          "name": "stdout",
          "text": [
            "Edge index shape: torch.Size([2, 1078584])\n",
            "Number of nodes: 31194\n",
            "Train split: Data(edge_index=[2, 755190], num_nodes=31194, edge_label=[377595], edge_label_index=[2, 377595])\n",
            "Validation split: Data(edge_index=[2, 755190], num_nodes=31194, edge_label=[80912], edge_label_index=[2, 80912])\n",
            "Test split: Data(edge_index=[2, 917014], num_nodes=31194, edge_label=[80912], edge_label_index=[2, 80912])\n"
          ]
        }
      ],
      "source": [
        "import torch\n",
        "import numpy as np\n",
        "from torch_geometric.data import Data\n",
        "from torch_geometric.transforms import RandomLinkSplit\n",
        "\n",
        "# Define nodes and edges\n",
        "edge_idx = torch.tensor(np.array(G.edges()).T, dtype=torch.long)\n",
        "num_nodes = max(edge_idx.max().item() + 1, n_playlists + n_tracks)\n",
        "\n",
        "# Ensure edge_index is in the correct shape\n",
        "print(\"Edge index shape:\", edge_idx.shape)  # Should be [2, num_edges]\n",
        "\n",
        "# Create the PyG Data object\n",
        "graph_data = Data(edge_index=edge_idx, num_nodes=num_nodes)\n",
        "\n",
        "# Validate num_nodes\n",
        "print(\"Number of nodes:\", graph_data.num_nodes)\n",
        "\n",
        "# Convert to train/val/test splits\n",
        "transform = RandomLinkSplit(\n",
        "    is_undirected=True,\n",
        "    add_negative_train_samples=False,\n",
        "    neg_sampling_ratio=0,\n",
        "    num_val=0.15,\n",
        "    num_test=0.15\n",
        ")\n",
        "\n",
        "# Apply the transform\n",
        "try:\n",
        "    train_split, val_split, test_split = transform(graph_data)\n",
        "    print(\"Train split:\", train_split)\n",
        "    print(\"Validation split:\", val_split)\n",
        "    print(\"Test split:\", test_split)\n",
        "except IndexError as e:\n",
        "    print(\"Error during splitting:\", e)\n"
      ]
    },
    {
      "cell_type": "code",
      "execution_count": null,
      "metadata": {
        "colab": {
          "base_uri": "https://localhost:8080/"
        },
        "id": "bcDs0tLOqgy2",
        "outputId": "944909fd-6ab6-4b53-a78f-5dfd50e7425b"
      },
      "outputs": [
        {
          "output_type": "stream",
          "name": "stdout",
          "text": [
            "31194\n",
            "tensor([[  919,   919,   919,  ..., 23447, 28888,  9731],\n",
            "        [23137, 21763, 19284,  ...,  9731, 15575, 21008]])\n"
          ]
        }
      ],
      "source": [
        "print(graph_data.num_nodes)  # Should match the total number of nodes\n",
        "print(graph_data.edge_index)  # Should match the total number of nodes"
      ]
    },
    {
      "cell_type": "code",
      "execution_count": null,
      "metadata": {
        "colab": {
          "base_uri": "https://localhost:8080/"
        },
        "id": "GTR-NtVnAauh",
        "outputId": "7d8336ac-c66a-44ce-b641-0ba4e4d4e5ba"
      },
      "outputs": [
        {
          "output_type": "execute_result",
          "data": {
            "text/plain": [
              "31194"
            ]
          },
          "metadata": {},
          "execution_count": 17
        }
      ],
      "source": [
        "num_nodes"
      ]
    },
    {
      "cell_type": "markdown",
      "metadata": {
        "id": "GAfsYU6FATiQ"
      },
      "source": [
        "Get splits by message-passing (`edge_index` and target edges (`edge_label_index`)."
      ]
    },
    {
      "cell_type": "code",
      "execution_count": null,
      "metadata": {
        "colab": {
          "base_uri": "https://localhost:8080/"
        },
        "id": "q0JBACsduxP1",
        "outputId": "292f660c-3c70-493b-d203-af724bbf5c5f"
      },
      "outputs": [
        {
          "output_type": "execute_result",
          "data": {
            "text/plain": [
              "Data(edge_index=[2, 1078584], num_nodes=31194)"
            ]
          },
          "metadata": {},
          "execution_count": 18
        }
      ],
      "source": [
        "graph_data"
      ]
    },
    {
      "cell_type": "code",
      "execution_count": null,
      "metadata": {
        "id": "Ta1hN_XKAODo"
      },
      "outputs": [],
      "source": [
        "# note these are stored as float32, we need them to be int64 for future training\n",
        "\n",
        "# Edge index: message passing edges\n",
        "train_split.edge_index = train_split.edge_index.type(torch.int64)\n",
        "val_split.edge_index = val_split.edge_index.type(torch.int64)\n",
        "test_split.edge_index = test_split.edge_index.type(torch.int64)\n",
        "# Edge label index: supervision edges\n",
        "train_split.edge_label_index = train_split.edge_label_index.type(torch.int64)\n",
        "val_split.edge_label_index = val_split.edge_label_index.type(torch.int64)\n",
        "test_split.edge_label_index = test_split.edge_label_index.type(torch.int64)"
      ]
    },
    {
      "cell_type": "code",
      "execution_count": null,
      "metadata": {
        "colab": {
          "base_uri": "https://localhost:8080/"
        },
        "id": "9gEpVnGLmPP6",
        "outputId": "a8a00a4b-0133-41cf-b2ab-5c99b123d2d9"
      },
      "outputs": [
        {
          "output_type": "stream",
          "name": "stdout",
          "text": [
            "Train set has 377595 positives supervision edges\n",
            "Validation set has 80912 positive supervision edges\n",
            "Test set has 80912 positive supervision edges\n",
            "Train set has 755190 message passing edges\n",
            "Validation set has 755190 message passing edges\n",
            "Test set has 917014 message passing edges\n"
          ]
        }
      ],
      "source": [
        "print(f\"Train set has {train_split.edge_label_index.shape[1]} positives supervision edges\")\n",
        "print(f\"Validation set has {val_split.edge_label_index.shape[1]} positive supervision edges\")\n",
        "print(f\"Test set has {test_split.edge_label_index.shape[1]} positive supervision edges\")\n",
        "\n",
        "print(f\"Train set has {train_split.edge_index.shape[1]} message passing edges\")\n",
        "print(f\"Validation set has {val_split.edge_index.shape[1]} message passing edges\")\n",
        "print(f\"Test set has {test_split.edge_index.shape[1]} message passing edges\")"
      ]
    },
    {
      "cell_type": "code",
      "execution_count": null,
      "metadata": {
        "id": "0Ok7es6a_bak"
      },
      "outputs": [],
      "source": []
    },
    {
      "cell_type": "code",
      "execution_count": null,
      "metadata": {
        "id": "Rg9xbpEoA_ql"
      },
      "outputs": [],
      "source": []
    },
    {
      "cell_type": "markdown",
      "metadata": {
        "id": "1bE_hWqXBAsl"
      },
      "source": [
        "Modified LGCN"
      ]
    },
    {
      "cell_type": "code",
      "execution_count": null,
      "metadata": {
        "id": "EAAHzgGDA_oU"
      },
      "outputs": [],
      "source": [
        "import torch\n",
        "from torch import nn, Tensor #\n",
        "from torch.nn import Embedding, ModuleList\n",
        "from torch_geometric.nn import LGConv\n",
        "from torch_geometric.typing import Adj, OptTensor\n",
        "from typing import Optional, Union\n",
        "\n",
        "\n",
        "class LightGCN(nn.Module):\n",
        "\n",
        "    def __init__(\n",
        "        self,\n",
        "        num_nodes: int,\n",
        "        embedding_dim: int,\n",
        "        num_layers: int,\n",
        "        alpha: Optional[Union[float, Tensor]] = None,\n",
        "        alpha_learnable: bool = False,\n",
        "        name: Optional[str] = None,\n",
        "        **kwargs,\n",
        "    ):\n",
        "        super().__init__()\n",
        "        self.name = name or f\"LGCN_LGC_{num_layers}_e{embedding_dim}_nodes{num_nodes}\"\n",
        "        self.num_nodes = num_nodes\n",
        "        self.embedding_dim = embedding_dim\n",
        "        self.num_layers = num_layers\n",
        "\n",
        "        # Initialize alpha values for layer contributions\n",
        "        if alpha_learnable:\n",
        "            alpha_vals = torch.rand(num_layers + 1)\n",
        "            self.alpha = nn.Parameter(alpha_vals / alpha_vals.sum())\n",
        "            print(f\"Alpha learnable, initialized to: {self.alpha.softmax(dim=-1)}\")\n",
        "        else:\n",
        "            if alpha is None:\n",
        "                alpha = 1.0 / (num_layers + 1)\n",
        "            if isinstance(alpha, Tensor):\n",
        "                assert alpha.size(0) == num_layers + 1\n",
        "            else:\n",
        "                alpha = torch.tensor([alpha] * (num_layers + 1))\n",
        "            self.register_buffer(\"alpha\", alpha)\n",
        "\n",
        "        # Node embedding layer\n",
        "        self.embedding = Embedding(num_nodes, embedding_dim)\n",
        "\n",
        "        # Initialize LGC layers\n",
        "        self.convs = ModuleList([LGConv(**kwargs) for _ in range(num_layers)])\n",
        "\n",
        "\n",
        "        self.reset_parameters()\n",
        "\n",
        "    def reset_parameters(self):\n",
        "        nn.init.xavier_uniform_(self.embedding.weight)\n",
        "        for conv in self.convs:\n",
        "            conv.reset_parameters()\n",
        "\n",
        "    def get_embedding(self, edge_index: Adj) -> Tensor:\n",
        "        x = self.embedding.weight\n",
        "        weights = self.alpha.softmax(dim=-1)\n",
        "        out = x * weights[0]\n",
        "\n",
        "        for i in range(self.num_layers):\n",
        "            x = self.convs[i](x, edge_index)\n",
        "            out = out + x * weights[i + 1]\n",
        "\n",
        "        return out\n",
        "\n",
        "\n",
        "\n",
        "    def forward(self, edge_index: Adj, edge_label_index: OptTensor = None) -> Tensor:\n",
        "        if edge_label_index is None:\n",
        "            edge_label_index = edge_index\n",
        "\n",
        "        out = self.get_embedding(edge_index)\n",
        "\n",
        "        return self.predict_link_embedding(out, edge_label_index)\n",
        "\n",
        "    def predict_link_embedding(self, embed: Tensor, edge_label_index: Tensor) -> Tensor:\n",
        "        embed_src = embed[edge_label_index[0]]\n",
        "        embed_dst = embed[edge_label_index[1]]\n",
        "        scores = (embed_src * embed_dst).sum(dim=-1)\n",
        "        return torch.sigmoid(scores)\n",
        "\n",
        "    def recommend(self, edge_index: Adj, src_index: OptTensor = None,\n",
        "                  dst_index: OptTensor = None, k: int = 1) -> Tensor:\n",
        "        out_src = out_dst = self.get_embedding(edge_index)\n",
        "\n",
        "        if src_index is not None:\n",
        "            out_src = out_src[src_index]\n",
        "\n",
        "        if dst_index is not None:\n",
        "            out_dst = out_dst[dst_index]\n",
        "\n",
        "        pred = out_src @ out_dst.t()\n",
        "        top_index = pred.topk(k, dim=-1).indices\n",
        "\n",
        "        if dst_index is not None:\n",
        "            top_index = dst_index[top_index.view(-1)].view(*top_index.size())\n",
        "\n",
        "        return top_index\n",
        "\n",
        "\n",
        "    def link_pred_loss(self, pred: Tensor, edge_label: Tensor,\n",
        "                       **kwargs) -> Tensor:\n",
        "        loss_fn = torch.nn.BCEWithLogitsLoss(**kwargs)\n",
        "        return loss_fn(pred, edge_label.to(pred.dtype))\n",
        "\n",
        "\n",
        "    def recommendation_loss(self, pos_edge_rank: Tensor, neg_edge_rank: Tensor,\n",
        "                            lambda_reg: float = 1e-4, **kwargs) -> Tensor:\n",
        "        r\"\"\"Computes the model loss for a ranking objective via the Bayesian\n",
        "        Personalized Ranking (BPR) loss.\"\"\"\n",
        "        loss_fn = BPRLoss(lambda_reg, **kwargs)\n",
        "        return loss_fn(pos_edge_rank, neg_edge_rank, self.embedding.weight)\n",
        "\n",
        "    def bpr_loss(self, pos_scores: Tensor, neg_scores: Tensor) -> Tensor:\n",
        "        return -torch.log(torch.sigmoid(pos_scores - neg_scores)).mean()\n",
        "\n",
        "    def __repr__(self) -> str:\n",
        "        return (f\"{self.__class__.__name__}({self.num_nodes}, \"\n",
        "                f\"{self.embedding_dim}, num_layers={self.num_layers})\")"
      ]
    },
    {
      "cell_type": "code",
      "source": [
        "import torch\n",
        "from torch import nn, Tensor\n",
        "from torch.nn import Embedding, ModuleList\n",
        "from torch_geometric.nn import SAGEConv\n",
        "from torch_geometric.typing import Adj, OptTensor\n",
        "from typing import Optional, Union\n",
        "\n",
        "\n",
        "class GraphSAGE(nn.Module):\n",
        "    def __init__(\n",
        "        self,\n",
        "        num_nodes: int,\n",
        "        embedding_dim: int,\n",
        "        num_layers: int,\n",
        "        alpha: Optional[Union[float, Tensor]] = None,\n",
        "        alpha_learnable: bool = False,\n",
        "        name: Optional[str] = None,\n",
        "        **kwargs,\n",
        "    ):\n",
        "        super().__init__()\n",
        "        self.name = name or f\"SAGE_{num_layers}_e{embedding_dim}_nodes{num_nodes}\"\n",
        "        self.num_nodes = num_nodes\n",
        "        self.embedding_dim = embedding_dim\n",
        "        self.num_layers = num_layers\n",
        "\n",
        "        # Initialize alpha values for layer contributions\n",
        "        if alpha_learnable:\n",
        "            alpha_vals = torch.rand(num_layers + 1)\n",
        "            self.alpha = nn.Parameter(alpha_vals / alpha_vals.sum())\n",
        "            print(f\"Alpha learnable, initialized to: {self.alpha.softmax(dim=-1)}\")\n",
        "        else:\n",
        "            if alpha is None:\n",
        "                alpha = 1.0 / (num_layers + 1)\n",
        "            if isinstance(alpha, Tensor):\n",
        "                assert alpha.size(0) == num_layers + 1\n",
        "            else:\n",
        "                alpha = torch.tensor([alpha] * (num_layers + 1))\n",
        "            self.register_buffer(\"alpha\", alpha)\n",
        "\n",
        "        # Node embedding layer\n",
        "        self.embedding = Embedding(num_nodes, embedding_dim)\n",
        "\n",
        "        # Initialize SAGEConv layers\n",
        "        self.convs = ModuleList([SAGEConv(embedding_dim, embedding_dim, **kwargs) for _ in range(num_layers)])\n",
        "\n",
        "        self.reset_parameters()\n",
        "\n",
        "    def reset_parameters(self):\n",
        "        nn.init.xavier_uniform_(self.embedding.weight)\n",
        "        for conv in self.convs:\n",
        "            conv.reset_parameters()\n",
        "\n",
        "    def get_embedding(self, edge_index: Adj) -> Tensor:\n",
        "        x = self.embedding.weight\n",
        "        weights = self.alpha.softmax(dim=-1)\n",
        "        out = x * weights[0]\n",
        "\n",
        "        for i in range(self.num_layers):\n",
        "            x = self.convs[i](x, edge_index)\n",
        "            out = out + x * weights[i + 1]\n",
        "\n",
        "        return out\n",
        "\n",
        "    def forward(self, edge_index: Adj, edge_label_index: OptTensor = None) -> Tensor:\n",
        "        if edge_label_index is None:\n",
        "            edge_label_index = edge_index\n",
        "\n",
        "        out = self.get_embedding(edge_index)\n",
        "        return self.predict_link_embedding(out, edge_label_index)\n",
        "\n",
        "    def predict_link_embedding(self, embed: Tensor, edge_label_index: Tensor) -> Tensor:\n",
        "        embed_src = embed[edge_label_index[0]]\n",
        "        embed_dst = embed[edge_label_index[1]]\n",
        "        return (embed_src * embed_dst).sum(dim=-1)\n",
        "\n",
        "    def recommend(self, edge_index: Adj, src_index: OptTensor = None,\n",
        "                  dst_index: OptTensor = None, k: int = 1) -> Tensor:\n",
        "        out_src = out_dst = self.get_embedding(edge_index)\n",
        "\n",
        "        if src_index is not None:\n",
        "            out_src = out_src[src_index]\n",
        "\n",
        "        if dst_index is not None:\n",
        "            out_dst = out_dst[dst_index]\n",
        "\n",
        "        pred = out_src @ out_dst.t()\n",
        "        top_index = pred.topk(k, dim=-1).indices\n",
        "\n",
        "        if dst_index is not None:\n",
        "            top_index = dst_index[top_index.view(-1)].view(*top_index.size())\n",
        "\n",
        "        return top_index\n",
        "\n",
        "    def recommendation_loss(self, pos_edge_rank: Tensor, neg_edge_rank: Tensor,\n",
        "                            lambda_reg: float = 1e-5, **kwargs) -> Tensor:\n",
        "        loss_fn = BPRLoss(lambda_reg, **kwargs)\n",
        "        return loss_fn(pos_edge_rank, neg_edge_rank, self.embedding.weight)\n",
        "\n",
        "    def bpr_loss(self, pos_scores: Tensor, neg_scores: Tensor) -> Tensor:\n",
        "        return -torch.log(torch.sigmoid(pos_scores - neg_scores)).mean()\n",
        "\n",
        "    def __repr__(self) -> str:\n",
        "        return (f\"{self.__class__.__name__}({self.num_nodes}, \"\n",
        "                f\"{self.embedding_dim}, num_layers={self.num_layers})\")\n"
      ],
      "metadata": {
        "id": "rVgez_TCzRSw"
      },
      "execution_count": null,
      "outputs": []
    },
    {
      "cell_type": "code",
      "execution_count": null,
      "metadata": {
        "id": "YOQuMZAkBiZb"
      },
      "outputs": [],
      "source": [
        "class BPRLoss(_Loss):\n",
        "    __constants__ = ['lambda_reg']\n",
        "    lambda_reg: float\n",
        "\n",
        "    def __init__(self, lambda_reg: float = 0.0, **kwargs):\n",
        "        super().__init__(None, None, \"sum\", **kwargs)\n",
        "        self.lambda_reg = lambda_reg\n",
        "\n",
        "    def forward(self, positives: Tensor, negatives: Tensor,\n",
        "                parameters: Tensor = None) -> Tensor:\n",
        "        n_pairs = positives.size(0)\n",
        "        log_prob = F.logsigmoid(positives - negatives).sum()\n",
        "        regularization = 0.0\n",
        "\n",
        "        if self.lambda_reg != 0:\n",
        "            regularization = self.lambda_reg * parameters.norm(p=2).pow(2)\n",
        "\n",
        "        return (-log_prob + regularization) / n_pairs"
      ]
    },
    {
      "cell_type": "code",
      "execution_count": null,
      "metadata": {
        "id": "V523q8TcBiPw"
      },
      "outputs": [],
      "source": [
        "def sample_negative_edges_nocheck(data, num_playlists, num_tracks, device = None):\n",
        "  # note computationally inefficient to check that these are indeed negative edges\n",
        "  playlists = data.edge_label_index[0, :]\n",
        "  tracks = torch.randint(num_playlists, num_playlists + num_tracks - 1, size = data.edge_label_index[1, :].size())\n",
        "\n",
        "  if playlists.get_device() != -1: # on gpu\n",
        "    tracks = tracks.to(device)\n",
        "\n",
        "  neg_edge_index = torch.stack((playlists, tracks), dim = 0)\n",
        "  neg_edge_label = torch.zeros(neg_edge_index.shape[1])\n",
        "\n",
        "  if neg_edge_index.get_device() != -1: # on gpu\n",
        "    neg_edge_label = neg_edge_label.to(device)\n",
        "\n",
        "  return neg_edge_index, neg_edge_label\n",
        "\n",
        "def sample_negative_edges(data, num_playlists, num_tracks, device=None):\n",
        "    positive_playlists, positive_tracks = data.edge_label_index\n",
        "\n",
        "    # Create a mask tensor with the shape (num_playlists, num_tracks)\n",
        "    mask = torch.zeros(num_playlists, num_tracks, device=device, dtype=torch.bool)\n",
        "    mask[positive_playlists, positive_tracks - num_playlists] = True\n",
        "\n",
        "    # Flatten the mask tensor and get the indices of the negative edges\n",
        "    flat_mask = mask.flatten()\n",
        "    negative_indices = torch.where(~flat_mask)[0]\n",
        "\n",
        "    # Sample negative edges from the negative_indices tensor\n",
        "    sampled_negative_indices = negative_indices[\n",
        "        torch.randint(0, negative_indices.size(0), size=(positive_playlists.size(0),), device=device)\n",
        "    ]\n",
        "\n",
        "    # Convert the indices back to playlists and tracks tensors\n",
        "    playlists = torch.floor_divide(sampled_negative_indices, num_tracks)\n",
        "    tracks = torch.remainder(sampled_negative_indices, num_tracks)\n",
        "    tracks = tracks + num_playlists\n",
        "\n",
        "    neg_edge_index = torch.stack((playlists, tracks), dim=0)\n",
        "    neg_edge_label = torch.zeros(neg_edge_index.shape[1], device=device)\n",
        "\n",
        "    return neg_edge_index, neg_edge_label\n",
        "\n",
        "def sample_hard_negative_edges(data, model, num_playlists, num_tracks, device=None, batch_size=500, frac_sample = 1):\n",
        "    with torch.no_grad():\n",
        "        embeddings = model.get_embedding(data.edge_index)\n",
        "        playlists_embeddings = embeddings[:num_playlists].to(device)\n",
        "        tracks_embeddings = embeddings[num_playlists:].to(device)\n",
        "\n",
        "    positive_playlists, positive_tracks = data.edge_label_index\n",
        "    num_edges = positive_playlists.size(0)\n",
        "\n",
        "    # Create a boolean mask for all the positive edges\n",
        "    positive_mask = torch.zeros(num_playlists, num_tracks, device=device, dtype=torch.bool)\n",
        "    positive_mask[positive_playlists, positive_tracks - num_playlists] = True\n",
        "\n",
        "    neg_edges_list = []\n",
        "    neg_edge_label_list = []\n",
        "\n",
        "    for batch_start in range(0, num_edges, batch_size):\n",
        "        batch_end = min(batch_start + batch_size, num_edges)\n",
        "\n",
        "        batch_scores = torch.matmul(\n",
        "            playlists_embeddings[positive_playlists[batch_start:batch_end]], tracks_embeddings.t()\n",
        "        )\n",
        "\n",
        "        # Set the scores of the positive edges to negative infinity\n",
        "        batch_scores[positive_mask[positive_playlists[batch_start:batch_end]]] = -float(\"inf\")\n",
        "\n",
        "        # Select the top k highest scoring negative edges for each playlist in the current batch\n",
        "        # do 0.99 to filter out all pos edges which will be at the end\n",
        "        _, top_indices = torch.topk(batch_scores, int(frac_sample * 0.99 * num_tracks), dim=1)\n",
        "        selected_indices = torch.randint(0, int(frac_sample * 0.99 *num_tracks), size = (batch_end - batch_start, ))\n",
        "        top_indices_selected = top_indices[torch.arange(batch_end - batch_start), selected_indices] + n_playlists\n",
        "\n",
        "        # Create the negative edges tensor for the current batch\n",
        "        neg_edges_batch = torch.stack(\n",
        "            (positive_playlists[batch_start:batch_end], top_indices_selected), dim=0\n",
        "        )\n",
        "        neg_edge_label_batch = torch.zeros(neg_edges_batch.shape[1], device=device)\n",
        "\n",
        "        neg_edges_list.append(neg_edges_batch)\n",
        "        neg_edge_label_list.append(neg_edge_label_batch)\n",
        "\n",
        "    # Concatenate the batch tensors\n",
        "    neg_edges = torch.cat(neg_edges_list, dim=1)\n",
        "    neg_edge_label = torch.cat(neg_edge_label_list)\n",
        "\n",
        "    return neg_edges, neg_edge_label"
      ]
    },
    {
      "cell_type": "code",
      "execution_count": null,
      "metadata": {
        "id": "ZyPGDw7eCbtg"
      },
      "outputs": [],
      "source": [
        "def recall_at_k(data, model, k, batch_size = 64, device = None):\n",
        "    with torch.no_grad():\n",
        "        embeddings = model.get_embedding(data.edge_index)\n",
        "        playlists_embeddings = embeddings[:n_playlists]\n",
        "        tracks_embeddings = embeddings[n_playlists:]\n",
        "\n",
        "    hits_list = []\n",
        "    relevant_counts_list = []\n",
        "\n",
        "    for batch_start in range(0, n_playlists, batch_size):\n",
        "        batch_end = min(batch_start + batch_size, n_playlists)\n",
        "        batch_playlists_embeddings = playlists_embeddings[batch_start:batch_end]\n",
        "\n",
        "        # Calculate scores for all possible item pairs\n",
        "        scores = torch.matmul(batch_playlists_embeddings, tracks_embeddings.t())\n",
        "\n",
        "        # Set the scores of message passing edges to negative infinity\n",
        "        mp_indices = ((data.edge_index[0] >= batch_start) & (data.edge_index[0] < batch_end)).nonzero(as_tuple=True)[0]\n",
        "        scores[data.edge_index[0, mp_indices] - batch_start, data.edge_index[1, mp_indices] - n_playlists] = -float(\"inf\")\n",
        "\n",
        "        # Find the top k highest scoring items for each playlist in the batch\n",
        "        inds, top_k_indices = torch.topk(scores, k, dim=1)\n",
        "\n",
        "        # Ground truth supervision edges\n",
        "        ground_truth_edges = data.edge_label_index\n",
        "\n",
        "        # Create a mask to indicate if the top k items are in the ground truth supervision edges\n",
        "        mask = torch.zeros(scores.shape, device=device, dtype=torch.bool)\n",
        "        gt_indices = ((ground_truth_edges[0] >= batch_start) & (ground_truth_edges[0] < batch_end)).nonzero(as_tuple=True)[0]\n",
        "        mask[ground_truth_edges[0, gt_indices] - batch_start, ground_truth_edges[1, gt_indices] - n_playlists] = True\n",
        "\n",
        "        # Check how many of the top k items are in the ground truth supervision edges\n",
        "        hits = mask.gather(1, top_k_indices).sum(dim=1)\n",
        "        hits_list.append(hits)\n",
        "\n",
        "        # Calculate the total number of relevant items for each playlist in the batch\n",
        "        relevant_counts = torch.bincount(ground_truth_edges[0, gt_indices] - batch_start, minlength=batch_end - batch_start)\n",
        "        relevant_counts_list.append(relevant_counts)\n",
        "\n",
        "    # Compute recall@k\n",
        "    hits_tensor = torch.cat(hits_list, dim=0)\n",
        "    relevant_counts_tensor = torch.cat(relevant_counts_list, dim=0)\n",
        "    # Handle division by zero case\n",
        "    recall_at_k = torch.where(\n",
        "        relevant_counts_tensor != 0,\n",
        "        hits_tensor.true_divide(relevant_counts_tensor),\n",
        "        torch.ones_like(hits_tensor)\n",
        "    )\n",
        "    # take average\n",
        "    recall_at_k = torch.mean(recall_at_k)\n",
        "\n",
        "    if recall_at_k.numel() == 1:\n",
        "        return recall_at_k.item()\n",
        "    else:\n",
        "        raise ValueError(\"recall_at_k contains more than one item.\")"
      ]
    },
    {
      "cell_type": "code",
      "source": [
        "def precision_at_k(data, model, k, batch_size=64, device=None):\n",
        "    with torch.no_grad():\n",
        "        embeddings = model.get_embedding(data.edge_index)\n",
        "        playlists_embeddings = embeddings[:n_playlists]\n",
        "        tracks_embeddings = embeddings[n_playlists:]\n",
        "\n",
        "    hits_list = []\n",
        "\n",
        "    for batch_start in range(0, n_playlists, batch_size):\n",
        "        batch_end = min(batch_start + batch_size, n_playlists)\n",
        "        batch_playlists_embeddings = playlists_embeddings[batch_start:batch_end]\n",
        "\n",
        "        # Calculate scores for all possible item pairs\n",
        "        scores = torch.matmul(batch_playlists_embeddings, tracks_embeddings.t())\n",
        "\n",
        "        # Set the scores of message-passing edges to negative infinity\n",
        "        mp_indices = ((data.edge_index[0] >= batch_start) & (data.edge_index[0] < batch_end)).nonzero(as_tuple=True)[0]\n",
        "        scores[data.edge_index[0, mp_indices] - batch_start, data.edge_index[1, mp_indices] - n_playlists] = -float(\"inf\")\n",
        "\n",
        "        # Find the top k highest scoring items for each playlist in the batch\n",
        "        inds, top_k_indices = torch.topk(scores, k, dim=1)\n",
        "\n",
        "        # Ground truth supervision edges\n",
        "        ground_truth_edges = data.edge_label_index\n",
        "\n",
        "        # Create a mask to indicate if the top k items are in the ground truth supervision edges\n",
        "        mask = torch.zeros(scores.shape, device=device, dtype=torch.bool)\n",
        "        gt_indices = ((ground_truth_edges[0] >= batch_start) & (ground_truth_edges[0] < batch_end)).nonzero(as_tuple=True)[0]\n",
        "        mask[ground_truth_edges[0, gt_indices] - batch_start, ground_truth_edges[1, gt_indices] - n_playlists] = True\n",
        "\n",
        "        # Check how many of the top k items are in the ground truth supervision edges\n",
        "        hits = mask.gather(1, top_k_indices).sum(dim=1)\n",
        "        hits_list.append(hits)\n",
        "\n",
        "    # Compute precision@k\n",
        "    hits_tensor = torch.cat(hits_list, dim=0)\n",
        "    precision_at_k = hits_tensor.true_divide(k)  # Normalize hits by k\n",
        "    # take average\n",
        "    precision_at_k = torch.mean(precision_at_k)\n",
        "\n",
        "    if precision_at_k.numel() == 1:\n",
        "        return precision_at_k.item()\n",
        "    else:\n",
        "        raise ValueError(\"precision_at_k contains more than one item.\")"
      ],
      "metadata": {
        "id": "dhwUyFWuhkJi"
      },
      "execution_count": null,
      "outputs": []
    },
    {
      "cell_type": "code",
      "execution_count": null,
      "metadata": {
        "id": "RMYOgigPCbqb"
      },
      "outputs": [],
      "source": [
        "from sklearn.metrics import roc_auc_score, precision_score, recall_score, f1_score\n",
        "import numpy as np\n",
        "\n",
        "# def metrics(labels, preds):\n",
        "#   roc = roc_auc_score(labels.flatten().cpu().numpy(), preds.flatten().data.cpu().numpy())\n",
        "#   return roc\n",
        "\n",
        "\n",
        "# def dcg_at_k(scores, k):\n",
        "#     \"\"\"Compute Discounted Cumulative Gain (DCG) at rank K.\"\"\"\n",
        "#     scores = np.asfarray(scores)[:k]\n",
        "#     if scores.size:\n",
        "#         return np.sum(scores / np.log2(np.arange(2, scores.size + 2)))\n",
        "#     return 0.0\n",
        "\n",
        "# def ndcg_at_k(labels, preds, k):\n",
        "#     \"\"\"Compute Normalized Discounted Cumulative Gain (NDCG) at rank K.\"\"\"\n",
        "#     # Sort predictions by their scores in descending order\n",
        "#     order = np.argsort(-preds)\n",
        "#     # Get relevance scores based on the sorted order\n",
        "#     sorted_labels = labels[order]\n",
        "#     dcg = dcg_at_k(sorted_labels, k)\n",
        "#     ideal_dcg = dcg_at_k(sorted(sorted_labels, reverse=True), k)\n",
        "#     return dcg / ideal_dcg if ideal_dcg > 0 else 0.0\n",
        "# def mean_average_precision(labels, preds):\n",
        "#     order = np.argsort(-preds)\n",
        "#     sorted_labels = labels[order]\n",
        "#     precisions = [np.sum(sorted_labels[:i + 1]) / (i + 1) for i in range(len(sorted_labels))]\n",
        "#     return np.sum(precisions * sorted_labels) / np.sum(sorted_labels) if np.sum(sorted_labels) > 0 else 0\n",
        "\n",
        "def metrics(labels, preds):\n",
        "\n",
        "    k =  500\n",
        "    labels = labels.flatten().cpu().numpy()\n",
        "    preds = preds.flatten().data.cpu().numpy()\n",
        "\n",
        "    # Binary predictions for precision, recall, and F1\n",
        "    binary_preds = (preds > 0.5).astype(int)\n",
        "\n",
        "    # ROC AUC\n",
        "    roc = roc_auc_score(labels, preds)\n",
        "\n",
        "    # NDCG\n",
        "    # ndcg = ndcg_at_k(labels, preds, k)\n",
        "\n",
        "    # #precision_at_k\n",
        "    # precisionk = precision_at_k(labels, preds, k)\n",
        "    # #precision_at_k\n",
        "    # recallk = calc_recall_at_k(labels, preds, k)\n",
        "    # # precision_at_k\n",
        "    # f1k = f1_at_k(labels, preds, k)\n",
        "    # # #precision_at_k\n",
        "    # # maprecision = mean_average_precision(labels, preds)\n",
        "\n",
        "    return {\n",
        "        'roc_auc': roc,\n",
        "        #'ndcg@k': ndcg,\n",
        "        # 'precision@k': precisionk,\n",
        "        # 'recall@k': recallk,\n",
        "        # 'f1@k': f1k\n",
        "        # 'maprecision': maprecision\n",
        "    }\n"
      ]
    },
    {
      "cell_type": "code",
      "source": [
        "# Train\n",
        "def train(datasets, model, optimizer, loss_fn, args, neg_samp = \"random\"):\n",
        "  print(f\"Beginning training for {model.name}\")\n",
        "\n",
        "  train_data = datasets[\"train\"]\n",
        "  val_data = datasets[\"val\"]\n",
        "\n",
        "  stats = {\n",
        "      'train': {\n",
        "        'loss': [],\n",
        "        'roc' : []\n",
        "      },\n",
        "      'val': {\n",
        "        'loss': [],\n",
        "        'recall': [],\n",
        "        'roc' : []\n",
        "      }\n",
        "\n",
        "  }\n",
        "\n",
        "  val_neg_edge, val_neg_label = None, None\n",
        "  for epoch in range(args[\"epochs\"]):\n",
        "    model.train()\n",
        "    optimizer.zero_grad()\n",
        "\n",
        "    # obtain negative sample\n",
        "    if epoch % 5 == 0:\n",
        "        neg_edge_index, neg_edge_label = sample_hard_negative_edges(\n",
        "            train_data, model, n_playlists, n_tracks, args[\"device\"], batch_size = 500,\n",
        "            frac_sample = 1 - (0.5 * epoch / args[\"epochs\"])\n",
        "    )\n",
        "\n",
        "    # calculate embedding\n",
        "    embed = model.get_embedding(train_data.edge_index)\n",
        "    # calculate pos, negative scores using embedding\n",
        "    pos_scores = model.predict_link_embedding(embed, train_data.edge_label_index)\n",
        "    neg_scores = model.predict_link_embedding(embed, neg_edge_index)\n",
        "\n",
        "    # concatenate pos, neg scores together and evaluate loss\n",
        "    scores = torch.cat((pos_scores, neg_scores), dim = 0)\n",
        "    labels = torch.cat((train_data.edge_label, neg_edge_label), dim = 0)\n",
        "\n",
        "    # calculate loss function\n",
        "    loss = model.recommendation_loss(pos_scores, neg_scores, lambda_reg = 0)\n",
        "\n",
        "\n",
        "    train_roc = metrics(labels, scores)\n",
        "\n",
        "    loss.backward()\n",
        "    optimizer.step()\n",
        "\n",
        "    val_loss, val_roc, val_neg_edge, val_neg_label = test(\n",
        "        model, val_data, loss_fn, neg_samp, epoch, val_neg_edge, val_neg_label\n",
        "    )\n",
        "\n",
        "    stats['train']['loss'].append(loss)\n",
        "    stats['train']['roc'].append(train_roc)\n",
        "    stats['val']['loss'].append(val_loss)\n",
        "    stats['val']['roc'].append(val_roc)\n",
        "\n",
        "    print(f\"Epoch {epoch}; Train loss {loss}; Val loss {val_loss}; Train ROC {train_roc}; Val ROC {val_roc}\")\n",
        "\n",
        "    if epoch % 20 == 0:\n",
        "      val_recall = recall_at_k(val_data, model, k = 100, device = args[\"device\"])\n",
        "      print(f\"Val recall {val_recall}\")\n",
        "    return stats"
      ],
      "metadata": {
        "id": "DQglGvbylSRL"
      },
      "execution_count": null,
      "outputs": []
    },
    {
      "cell_type": "code",
      "execution_count": null,
      "metadata": {
        "id": "jwdayjYQA_jZ"
      },
      "outputs": [],
      "source": []
    },
    {
      "cell_type": "code",
      "source": [
        "\n",
        "def test(model, data, loss_fn, neg_samp, epoch=0, neg_edge_index = None, neg_edge_label = None):\n",
        "\n",
        "  model.eval()\n",
        "  with torch.no_grad(): # want to save RAM\n",
        "\n",
        "    # conduct negative sampling\n",
        "    if neg_samp == \"random\":\n",
        "      neg_edge_index, neg_edge_label = sample_negative_edges(data, n_playlists, n_tracks, args[\"device\"])\n",
        "    elif neg_samp == \"hard\":\n",
        "      if epoch % 5 == 0 or neg_edge_index is None:\n",
        "        neg_edge_index, neg_edge_label = sample_hard_negative_edges(\n",
        "            data, model, n_playlists, n_tracks, args[\"device\"], batch_size = 500,\n",
        "            frac_sample = 1 - (0.5 * epoch / args[\"epochs\"])\n",
        "        )\n",
        "\n",
        "    embed = model.get_embedding(data.edge_index)\n",
        "\n",
        "    # calculate pos, neg scores using embedding\n",
        "    pos_scores = model.predict_link_embedding(embed, data.edge_label_index)\n",
        "    neg_scores = model.predict_link_embedding(embed, neg_edge_index)\n",
        "\n",
        "    # concatenate pos, neg scores together and evaluate loss\n",
        "    scores = torch.cat((pos_scores, neg_scores), dim = 0)\n",
        "    labels = torch.cat((data.edge_label, neg_edge_label), dim = 0)\n",
        "    # calculate loss\n",
        "    if loss_fn == \"BCE\":\n",
        "      loss = model.link_pred_loss(scores, labels)\n",
        "    elif loss_fn == \"BPR\":\n",
        "      loss = model.recommendation_loss(pos_scores, neg_scores, lambda_reg = 0)\n",
        "\n",
        "    roc = metrics(labels, scores)\n",
        "    recallk = recall_at_k(data, model, k = 300, device = args[\"device\"]) ## set 'k' values\n",
        "    print(f\"Loss: {loss}\")\n",
        "    print(f\"ROC: {roc}\")\n",
        "    print(f\"Recall@K: {recallk}\")\n",
        "\n",
        "\n",
        "    # print(f\"-------------------------------------------------\")\n",
        "    # #print(f\"scores: {scores[:100]}\")\n",
        "    # print(f\"scores: {scores[:-50]}\")\n",
        "    # print(f\"labels: {labels[:-50]}\")\n",
        "    # print(f\"-------------------------------------------------\")\n",
        "\n",
        "\n",
        "  return loss, roc, neg_edge_index, neg_edge_label"
      ],
      "metadata": {
        "id": "ekYA9qnAvm-R"
      },
      "execution_count": null,
      "outputs": []
    },
    {
      "cell_type": "code",
      "source": [],
      "metadata": {
        "id": "hypogV88LgGA"
      },
      "execution_count": null,
      "outputs": []
    },
    {
      "cell_type": "code",
      "source": [
        "# create a dictionary of the dataset splits\n",
        "datasets = {\n",
        "    'train':train_split,\n",
        "    'val':val_split,\n",
        "    'test': test_split\n",
        "}\n",
        "# initialize our arguments\n",
        "args = {\n",
        "    'device' : 'cuda' if torch.cuda.is_available() else 'cpu',\n",
        "    'num_layers' :  3,\n",
        "    'emb_size' : 64,\n",
        "    'weight_decay': 1e-5,\n",
        "    'lr': 0.001,\n",
        "    'epochs': 5\n",
        "}\n",
        "\n",
        "# Arguments\n",
        "# device = 'cuda' if torch.cuda.is_available() else 'cpu'\n",
        "# num_layers = 3\n",
        "# emb_size = 64\n",
        "# weight_decay = 1e-5\n",
        "# learning_rate = 0.01\n",
        "# epochs = 51\n",
        "\n",
        "# initialize model and and optimizer\n",
        "num_nodes = n_playlists + n_tracks\n",
        "\n",
        "#model = LightGCN(num_nodes=num_nodes, embedding_dim=64, num_layers=5)\n",
        "model = GraphSAGE(num_nodes=num_nodes, embedding_dim=args[\"emb_size\"], num_layers=4)\n",
        "optimizer = torch.optim.Adam(model.parameters(), lr=args['lr'], weight_decay=1e-5)\n",
        "\n",
        "#optimizer = torch.optim.Adagrad(model.parameters(), lr=args['lr'], weight_decay=args['weight_decay'])\n",
        "\n",
        "# send data, model to GPU if available\n",
        "playlists_idx = torch.Tensor(playlists_idx).type(torch.int64).to(args[\"device\"])\n",
        "tracks_idx =torch.Tensor(tracks_idx).type(torch.int64).to(args[\"device\"])\n",
        "datasets['train'].to(args['device'])\n",
        "datasets['val'].to(args['device'])\n",
        "datasets['test'].to(args['device'])\n",
        "model.to(args[\"device\"])\n",
        "#model1.to(device)"
      ],
      "metadata": {
        "colab": {
          "base_uri": "https://localhost:8080/"
        },
        "id": "uw85qDDYkgkY",
        "outputId": "0ff3bf28-6e7c-44ae-d907-4a52ec89cc18"
      },
      "execution_count": null,
      "outputs": [
        {
          "output_type": "execute_result",
          "data": {
            "text/plain": [
              "GraphSAGE(31194, 64, num_layers=4)"
            ]
          },
          "metadata": {},
          "execution_count": 58
        }
      ]
    },
    {
      "cell_type": "code",
      "source": [
        "train(datasets, model, optimizer, \"BPR\", args, neg_samp = \"random\")"
      ],
      "metadata": {
        "colab": {
          "base_uri": "https://localhost:8080/"
        },
        "id": "9dYBaDi9kgid",
        "outputId": "6ba1f93d-8fbb-40c5-cbb0-97d866228cfd"
      },
      "execution_count": null,
      "outputs": [
        {
          "output_type": "stream",
          "name": "stdout",
          "text": [
            "Beginning training for LGCN_LGC_5_e64_nodes31194\n",
            "Loss: 0.6931470632553101\n",
            "ROC: {'roc_auc': 0.521229892152023}\n",
            "Recall@K: 0.1927277147769928\n",
            "Epoch 0; Train loss 0.6931462287902832; Val loss 0.6931470632553101; Train ROC {'roc_auc': 0.6439879285028248}; Val ROC {'roc_auc': 0.521229892152023}\n",
            "Val recall 0.1599554419517517\n",
            "Loss: 0.6931470632553101\n",
            "ROC: {'roc_auc': 0.5231611357610733}\n",
            "Recall@K: 0.1942359358072281\n",
            "Epoch 1; Train loss 0.6931465268135071; Val loss 0.6931470632553101; Train ROC {'roc_auc': 0.6465169293970742}; Val ROC {'roc_auc': 0.5231611357610733}\n",
            "Loss: 0.6931470632553101\n",
            "ROC: {'roc_auc': 0.5286310011457372}\n",
            "Recall@K: 0.19555754959583282\n",
            "Epoch 2; Train loss 0.6931465864181519; Val loss 0.6931470632553101; Train ROC {'roc_auc': 0.6497167490411673}; Val ROC {'roc_auc': 0.5286310011457372}\n",
            "Loss: 0.6931471228599548\n",
            "ROC: {'roc_auc': 0.5313391073899568}\n",
            "Recall@K: 0.1966923326253891\n",
            "Epoch 3; Train loss 0.6931467056274414; Val loss 0.6931471228599548; Train ROC {'roc_auc': 0.6536846442262295}; Val ROC {'roc_auc': 0.5313391073899568}\n",
            "Loss: 0.6931471228599548\n",
            "ROC: {'roc_auc': 0.5366447585485845}\n",
            "Recall@K: 0.19903773069381714\n",
            "Epoch 4; Train loss 0.6931468844413757; Val loss 0.6931471228599548; Train ROC {'roc_auc': 0.658609121953251}; Val ROC {'roc_auc': 0.5366447585485845}\n",
            "Loss: 0.6931471824645996\n",
            "ROC: {'roc_auc': 0.5459426026320321}\n",
            "Recall@K: 0.2020423412322998\n",
            "Epoch 5; Train loss 0.6931469440460205; Val loss 0.6931471824645996; Train ROC {'roc_auc': 0.65338891061566}; Val ROC {'roc_auc': 0.5459426026320321}\n",
            "Loss: 0.6931472420692444\n",
            "ROC: {'roc_auc': 0.5574689883172458}\n",
            "Recall@K: 0.20569676160812378\n",
            "Epoch 6; Train loss 0.6931470036506653; Val loss 0.6931472420692444; Train ROC {'roc_auc': 0.6608892207288207}; Val ROC {'roc_auc': 0.5574689883172458}\n",
            "Loss: 0.6931472420692444\n",
            "ROC: {'roc_auc': 0.5702229949212654}\n",
            "Recall@K: 0.21229438483715057\n",
            "Epoch 7; Train loss 0.6931470036506653; Val loss 0.6931472420692444; Train ROC {'roc_auc': 0.6706331228529057}; Val ROC {'roc_auc': 0.5702229949212654}\n",
            "Loss: 0.6931473016738892\n",
            "ROC: {'roc_auc': 0.5870113176311076}\n",
            "Recall@K: 0.22172468900680542\n",
            "Epoch 8; Train loss 0.6931470036506653; Val loss 0.6931473016738892; Train ROC {'roc_auc': 0.6830107612796825}; Val ROC {'roc_auc': 0.5870113176311076}\n",
            "Loss: 0.6931473612785339\n",
            "ROC: {'roc_auc': 0.606682686398244}\n",
            "Recall@K: 0.23489394783973694\n",
            "Epoch 9; Train loss 0.6931470036506653; Val loss 0.6931473612785339; Train ROC {'roc_auc': 0.6976767736037385}; Val ROC {'roc_auc': 0.606682686398244}\n",
            "Loss: 0.6931473612785339\n",
            "ROC: {'roc_auc': 0.6207143671269131}\n",
            "Recall@K: 0.24968624114990234\n",
            "Epoch 10; Train loss 0.6931471228599548; Val loss 0.6931473612785339; Train ROC {'roc_auc': 0.7009709816453801}; Val ROC {'roc_auc': 0.6207143671269131}\n",
            "Loss: 0.6931473612785339\n",
            "ROC: {'roc_auc': 0.6340558658354868}\n",
            "Recall@K: 0.2591952085494995\n",
            "Epoch 11; Train loss 0.6931471228599548; Val loss 0.6931473612785339; Train ROC {'roc_auc': 0.7130748625522467}; Val ROC {'roc_auc': 0.6340558658354868}\n",
            "Loss: 0.6931473612785339\n",
            "ROC: {'roc_auc': 0.6344606507538207}\n",
            "Recall@K: 0.26100143790245056\n",
            "Epoch 12; Train loss 0.6931471824645996; Val loss 0.6931473612785339; Train ROC {'roc_auc': 0.7207291910883888}; Val ROC {'roc_auc': 0.6344606507538207}\n",
            "Loss: 0.6931473612785339\n",
            "ROC: {'roc_auc': 0.6292328967978568}\n",
            "Recall@K: 0.256430983543396\n",
            "Epoch 13; Train loss 0.6931471824645996; Val loss 0.6931473612785339; Train ROC {'roc_auc': 0.7241553973480961}; Val ROC {'roc_auc': 0.6292328967978568}\n",
            "Loss: 0.6931473612785339\n",
            "ROC: {'roc_auc': 0.6201119347021113}\n",
            "Recall@K: 0.24940787255764008\n",
            "Epoch 14; Train loss 0.6931471824645996; Val loss 0.6931473612785339; Train ROC {'roc_auc': 0.7233294175085304}; Val ROC {'roc_auc': 0.6201119347021113}\n",
            "Loss: 0.6931473612785339\n",
            "ROC: {'roc_auc': 0.6089843044832952}\n",
            "Recall@K: 0.24189341068267822\n",
            "Epoch 15; Train loss 0.6931471824645996; Val loss 0.6931473612785339; Train ROC {'roc_auc': 0.6978750126463963}; Val ROC {'roc_auc': 0.6089843044832952}\n",
            "Loss: 0.6931473612785339\n",
            "ROC: {'roc_auc': 0.6006130702432476}\n",
            "Recall@K: 0.23595626652240753\n",
            "Epoch 16; Train loss 0.6931471824645996; Val loss 0.6931473612785339; Train ROC {'roc_auc': 0.6905304769558186}; Val ROC {'roc_auc': 0.6006130702432476}\n",
            "Loss: 0.6931473612785339\n",
            "ROC: {'roc_auc': 0.594990023188764}\n",
            "Recall@K: 0.2314327210187912\n",
            "Epoch 17; Train loss 0.6931471824645996; Val loss 0.6931473612785339; Train ROC {'roc_auc': 0.685871798794568}; Val ROC {'roc_auc': 0.594990023188764}\n",
            "Loss: 0.6931473612785339\n",
            "ROC: {'roc_auc': 0.5913343125888204}\n",
            "Recall@K: 0.228622704744339\n",
            "Epoch 18; Train loss 0.6931471824645996; Val loss 0.6931473612785339; Train ROC {'roc_auc': 0.6836078054447976}; Val ROC {'roc_auc': 0.5913343125888204}\n",
            "Loss: 0.6931473612785339\n",
            "ROC: {'roc_auc': 0.5900434812011623}\n",
            "Recall@K: 0.22730004787445068\n",
            "Epoch 19; Train loss 0.6931471824645996; Val loss 0.6931473612785339; Train ROC {'roc_auc': 0.6837364414147895}; Val ROC {'roc_auc': 0.5900434812011623}\n",
            "Loss: 0.6931473612785339\n",
            "ROC: {'roc_auc': 0.5906438132175236}\n",
            "Recall@K: 0.22766034305095673\n",
            "Epoch 20; Train loss 0.6931471824645996; Val loss 0.6931473612785339; Train ROC {'roc_auc': 0.6688566247480567}; Val ROC {'roc_auc': 0.5906438132175236}\n",
            "Val recall 0.17701245844364166\n",
            "Loss: 0.6931473612785339\n",
            "ROC: {'roc_auc': 0.5928037917916787}\n",
            "Recall@K: 0.22960901260375977\n",
            "Epoch 21; Train loss 0.6931471824645996; Val loss 0.6931473612785339; Train ROC {'roc_auc': 0.6700255289264512}; Val ROC {'roc_auc': 0.5928037917916787}\n",
            "Loss: 0.6931473612785339\n",
            "ROC: {'roc_auc': 0.597033622303201}\n",
            "Recall@K: 0.2324722558259964\n",
            "Epoch 22; Train loss 0.6931471824645996; Val loss 0.6931473612785339; Train ROC {'roc_auc': 0.6728789207456711}; Val ROC {'roc_auc': 0.597033622303201}\n",
            "Loss: 0.6931473612785339\n",
            "ROC: {'roc_auc': 0.6009774616550746}\n",
            "Recall@K: 0.23678848147392273\n",
            "Epoch 23; Train loss 0.6931471824645996; Val loss 0.6931473612785339; Train ROC {'roc_auc': 0.6772365464654012}; Val ROC {'roc_auc': 0.6009774616550746}\n",
            "Loss: 0.6931473612785339\n",
            "ROC: {'roc_auc': 0.6066078647778752}\n",
            "Recall@K: 0.24172794818878174\n",
            "Epoch 24; Train loss 0.6931471824645996; Val loss 0.6931473612785339; Train ROC {'roc_auc': 0.6830089107698178}; Val ROC {'roc_auc': 0.6066078647778752}\n",
            "Loss: 0.6931473612785339\n",
            "ROC: {'roc_auc': 0.6164355009950709}\n",
            "Recall@K: 0.24747872352600098\n",
            "Epoch 25; Train loss 0.6931471824645996; Val loss 0.6931473612785339; Train ROC {'roc_auc': 0.6782677021148917}; Val ROC {'roc_auc': 0.6164355009950709}\n",
            "Loss: 0.6931473612785339\n",
            "ROC: {'roc_auc': 0.6252635545585491}\n",
            "Recall@K: 0.256513386964798\n",
            "Epoch 26; Train loss 0.6931471824645996; Val loss 0.6931473612785339; Train ROC {'roc_auc': 0.685559208233578}; Val ROC {'roc_auc': 0.6252635545585491}\n",
            "Loss: 0.6931473612785339\n",
            "ROC: {'roc_auc': 0.6370196821914739}\n",
            "Recall@K: 0.26667851209640503\n",
            "Epoch 27; Train loss 0.6931471824645996; Val loss 0.6931473612785339; Train ROC {'roc_auc': 0.6934959053227359}; Val ROC {'roc_auc': 0.6370196821914739}\n",
            "Loss: 0.6931473612785339\n",
            "ROC: {'roc_auc': 0.6474540401552576}\n",
            "Recall@K: 0.2785906493663788\n",
            "Epoch 28; Train loss 0.6931471824645996; Val loss 0.6931473612785339; Train ROC {'roc_auc': 0.7027286733946265}; Val ROC {'roc_auc': 0.6474540401552576}\n",
            "Loss: 0.6931473612785339\n",
            "ROC: {'roc_auc': 0.6617845755910516}\n",
            "Recall@K: 0.2916213870048523\n",
            "Epoch 29; Train loss 0.6931471824645996; Val loss 0.6931473612785339; Train ROC {'roc_auc': 0.7129012007320286}; Val ROC {'roc_auc': 0.6617845755910516}\n",
            "Loss: 0.6931473612785339\n",
            "ROC: {'roc_auc': 0.6755602823867568}\n",
            "Recall@K: 0.3060753643512726\n",
            "Epoch 30; Train loss 0.6931471824645996; Val loss 0.6931473612785339; Train ROC {'roc_auc': 0.7102434532001032}; Val ROC {'roc_auc': 0.6755602823867568}\n",
            "Loss: 0.6931473612785339\n",
            "ROC: {'roc_auc': 0.6881179612529719}\n",
            "Recall@K: 0.3219963014125824\n",
            "Epoch 31; Train loss 0.6931471824645996; Val loss 0.6931473612785339; Train ROC {'roc_auc': 0.7191899444048462}; Val ROC {'roc_auc': 0.6881179612529719}\n",
            "Loss: 0.6931473612785339\n",
            "ROC: {'roc_auc': 0.7012409021034093}\n",
            "Recall@K: 0.3372373580932617\n",
            "Epoch 32; Train loss 0.6931471824645996; Val loss 0.6931473612785339; Train ROC {'roc_auc': 0.7279668658599346}; Val ROC {'roc_auc': 0.7012409021034093}\n",
            "Loss: 0.6931473612785339\n",
            "ROC: {'roc_auc': 0.7133189993183245}\n",
            "Recall@K: 0.35247597098350525\n",
            "Epoch 33; Train loss 0.6931471824645996; Val loss 0.6931473612785339; Train ROC {'roc_auc': 0.7352774187886983}; Val ROC {'roc_auc': 0.7133189993183245}\n",
            "Loss: 0.6931473612785339\n",
            "ROC: {'roc_auc': 0.7220991251926964}\n",
            "Recall@K: 0.36658766865730286\n",
            "Epoch 34; Train loss 0.6931471824645996; Val loss 0.6931473612785339; Train ROC {'roc_auc': 0.7414348005192397}; Val ROC {'roc_auc': 0.7220991251926964}\n",
            "Loss: 0.6931473612785339\n",
            "ROC: {'roc_auc': 0.7296325159602159}\n",
            "Recall@K: 0.37597617506980896\n",
            "Epoch 35; Train loss 0.6931471824645996; Val loss 0.6931473612785339; Train ROC {'roc_auc': 0.7343342257618746}; Val ROC {'roc_auc': 0.7296325159602159}\n",
            "Loss: 0.6931473612785339\n",
            "ROC: {'roc_auc': 0.7340209521227447}\n",
            "Recall@K: 0.38157451152801514\n",
            "Epoch 36; Train loss 0.6931471824645996; Val loss 0.6931473612785339; Train ROC {'roc_auc': 0.7358321935312071}; Val ROC {'roc_auc': 0.7340209521227447}\n",
            "Loss: 0.6931473016738892\n",
            "ROC: {'roc_auc': 0.7397482206252503}\n",
            "Recall@K: 0.38580578565597534\n",
            "Epoch 37; Train loss 0.6931471824645996; Val loss 0.6931473016738892; Train ROC {'roc_auc': 0.73570930363914}; Val ROC {'roc_auc': 0.7397482206252503}\n",
            "Loss: 0.6931473016738892\n",
            "ROC: {'roc_auc': 0.7415028118292079}\n",
            "Recall@K: 0.38772788643836975\n",
            "Epoch 38; Train loss 0.6931471824645996; Val loss 0.6931473016738892; Train ROC {'roc_auc': 0.7346629214815712}; Val ROC {'roc_auc': 0.7415028118292079}\n",
            "Loss: 0.6931473016738892\n",
            "ROC: {'roc_auc': 0.740432523769559}\n",
            "Recall@K: 0.3874041736125946\n",
            "Epoch 39; Train loss 0.6931471824645996; Val loss 0.6931473016738892; Train ROC {'roc_auc': 0.7338617477663132}; Val ROC {'roc_auc': 0.740432523769559}\n",
            "Loss: 0.6931473016738892\n",
            "ROC: {'roc_auc': 0.7404686938543553}\n",
            "Recall@K: 0.38623738288879395\n",
            "Epoch 40; Train loss 0.6931471824645996; Val loss 0.6931473016738892; Train ROC {'roc_auc': 0.7228490725461731}; Val ROC {'roc_auc': 0.7404686938543553}\n",
            "Val recall 0.25129207968711853\n",
            "Loss: 0.6931473016738892\n",
            "ROC: {'roc_auc': 0.7407057776595292}\n",
            "Recall@K: 0.38501355051994324\n",
            "Epoch 41; Train loss 0.6931471824645996; Val loss 0.6931473016738892; Train ROC {'roc_auc': 0.7209788091948307}; Val ROC {'roc_auc': 0.7407057776595292}\n",
            "Loss: 0.6931473612785339\n",
            "ROC: {'roc_auc': 0.738614974063295}\n",
            "Recall@K: 0.38230741024017334\n",
            "Epoch 42; Train loss 0.6931471824645996; Val loss 0.6931473612785339; Train ROC {'roc_auc': 0.7193072268367445}; Val ROC {'roc_auc': 0.738614974063295}\n",
            "Loss: 0.6931473016738892\n",
            "ROC: {'roc_auc': 0.7375084560565467}\n",
            "Recall@K: 0.37972491979599\n",
            "Epoch 43; Train loss 0.6931471824645996; Val loss 0.6931473016738892; Train ROC {'roc_auc': 0.7181359555133437}; Val ROC {'roc_auc': 0.7375084560565467}\n",
            "Loss: 0.6931473016738892\n",
            "ROC: {'roc_auc': 0.7368271451438229}\n",
            "Recall@K: 0.37834620475769043\n",
            "Epoch 44; Train loss 0.6931471824645996; Val loss 0.6931473016738892; Train ROC {'roc_auc': 0.7180604912423963}; Val ROC {'roc_auc': 0.7368271451438229}\n",
            "Loss: 0.6931473016738892\n",
            "ROC: {'roc_auc': 0.7351792287114804}\n",
            "Recall@K: 0.3773517608642578\n",
            "Epoch 45; Train loss 0.6931471824645996; Val loss 0.6931473016738892; Train ROC {'roc_auc': 0.7105622960169717}; Val ROC {'roc_auc': 0.7351792287114804}\n",
            "Loss: 0.6931473016738892\n",
            "ROC: {'roc_auc': 0.7339411271035705}\n",
            "Recall@K: 0.3770087659358978\n",
            "Epoch 46; Train loss 0.6931471824645996; Val loss 0.6931473016738892; Train ROC {'roc_auc': 0.7097542727926346}; Val ROC {'roc_auc': 0.7339411271035705}\n",
            "Loss: 0.6931473016738892\n",
            "ROC: {'roc_auc': 0.7328914899922764}\n",
            "Recall@K: 0.37742528319358826\n",
            "Epoch 47; Train loss 0.6931471228599548; Val loss 0.6931473016738892; Train ROC {'roc_auc': 0.7086877915404053}; Val ROC {'roc_auc': 0.7328914899922764}\n",
            "Loss: 0.6931473016738892\n",
            "ROC: {'roc_auc': 0.7331303272548785}\n",
            "Recall@K: 0.37753838300704956\n",
            "Epoch 48; Train loss 0.6931471228599548; Val loss 0.6931473016738892; Train ROC {'roc_auc': 0.7075294203472204}; Val ROC {'roc_auc': 0.7331303272548785}\n",
            "Loss: 0.6931473016738892\n",
            "ROC: {'roc_auc': 0.7332232256709318}\n",
            "Recall@K: 0.3777700662612915\n",
            "Epoch 49; Train loss 0.6931471228599548; Val loss 0.6931473016738892; Train ROC {'roc_auc': 0.7061983495168583}; Val ROC {'roc_auc': 0.7332232256709318}\n",
            "Loss: 0.6931473016738892\n",
            "ROC: {'roc_auc': 0.7325484604396747}\n",
            "Recall@K: 0.3782176375389099\n",
            "Epoch 50; Train loss 0.6931471228599548; Val loss 0.6931473016738892; Train ROC {'roc_auc': 0.6979388485205242}; Val ROC {'roc_auc': 0.7325484604396747}\n",
            "Loss: 0.6931473016738892\n",
            "ROC: {'roc_auc': 0.7322484286614801}\n",
            "Recall@K: 0.3783484101295471\n",
            "Epoch 51; Train loss 0.6931471228599548; Val loss 0.6931473016738892; Train ROC {'roc_auc': 0.6956471984466551}; Val ROC {'roc_auc': 0.7322484286614801}\n",
            "Loss: 0.6931473016738892\n",
            "ROC: {'roc_auc': 0.7312693440237639}\n",
            "Recall@K: 0.3790134787559509\n",
            "Epoch 52; Train loss 0.6931471228599548; Val loss 0.6931473016738892; Train ROC {'roc_auc': 0.6929094558311131}; Val ROC {'roc_auc': 0.7312693440237639}\n",
            "Loss: 0.6931472420692444\n",
            "ROC: {'roc_auc': 0.732002658784566}\n",
            "Recall@K: 0.38042452931404114\n",
            "Epoch 53; Train loss 0.6931471228599548; Val loss 0.6931472420692444; Train ROC {'roc_auc': 0.6901486136347535}; Val ROC {'roc_auc': 0.732002658784566}\n",
            "Loss: 0.6931473016738892\n",
            "ROC: {'roc_auc': 0.7299875222440827}\n",
            "Recall@K: 0.3813149333000183\n",
            "Epoch 54; Train loss 0.6931470036506653; Val loss 0.6931473016738892; Train ROC {'roc_auc': 0.6874985268807821}; Val ROC {'roc_auc': 0.7299875222440827}\n",
            "Loss: 0.6931473016738892\n",
            "ROC: {'roc_auc': 0.729482507507887}\n",
            "Recall@K: 0.38301965594291687\n",
            "Epoch 55; Train loss 0.6931471228599548; Val loss 0.6931473016738892; Train ROC {'roc_auc': 0.6781718831178546}; Val ROC {'roc_auc': 0.729482507507887}\n",
            "Loss: 0.6931472420692444\n",
            "ROC: {'roc_auc': 0.7270971695251205}\n",
            "Recall@K: 0.38416948914527893\n",
            "Epoch 56; Train loss 0.6931471228599548; Val loss 0.6931472420692444; Train ROC {'roc_auc': 0.6755589172051916}; Val ROC {'roc_auc': 0.7270971695251205}\n",
            "Loss: 0.6931473016738892\n",
            "ROC: {'roc_auc': 0.7259280528525673}\n",
            "Recall@K: 0.3848443925380707\n",
            "Epoch 57; Train loss 0.6931471228599548; Val loss 0.6931473016738892; Train ROC {'roc_auc': 0.6734896839541392}; Val ROC {'roc_auc': 0.7259280528525673}\n",
            "Loss: 0.6931472420692444\n",
            "ROC: {'roc_auc': 0.7240700491148108}\n",
            "Recall@K: 0.38583365082740784\n",
            "Epoch 58; Train loss 0.6931470036506653; Val loss 0.6931472420692444; Train ROC {'roc_auc': 0.6720027338385514}; Val ROC {'roc_auc': 0.7240700491148108}\n",
            "Loss: 0.6931473016738892\n",
            "ROC: {'roc_auc': 0.721843977550959}\n",
            "Recall@K: 0.38573214411735535\n",
            "Epoch 59; Train loss 0.6931470036506653; Val loss 0.6931473016738892; Train ROC {'roc_auc': 0.6707938287272847}; Val ROC {'roc_auc': 0.721843977550959}\n",
            "Loss: 0.6931472420692444\n",
            "ROC: {'roc_auc': 0.7190259331928375}\n",
            "Recall@K: 0.38480693101882935\n",
            "Epoch 60; Train loss 0.6931470036506653; Val loss 0.6931472420692444; Train ROC {'roc_auc': 0.6627645980442124}; Val ROC {'roc_auc': 0.7190259331928375}\n",
            "Val recall 0.25294730067253113\n",
            "Loss: 0.6931472420692444\n",
            "ROC: {'roc_auc': 0.7163371866972811}\n",
            "Recall@K: 0.38326960802078247\n",
            "Epoch 61; Train loss 0.6931470036506653; Val loss 0.6931472420692444; Train ROC {'roc_auc': 0.6616274386507082}; Val ROC {'roc_auc': 0.7163371866972811}\n",
            "Loss: 0.6931473016738892\n",
            "ROC: {'roc_auc': 0.7136714341738817}\n",
            "Recall@K: 0.38142478466033936\n",
            "Epoch 62; Train loss 0.6931470036506653; Val loss 0.6931473016738892; Train ROC {'roc_auc': 0.6605297196401531}; Val ROC {'roc_auc': 0.7136714341738817}\n",
            "Loss: 0.6931472420692444\n",
            "ROC: {'roc_auc': 0.7105852536741123}\n",
            "Recall@K: 0.37956365942955017\n",
            "Epoch 63; Train loss 0.6931470036506653; Val loss 0.6931472420692444; Train ROC {'roc_auc': 0.6597110549774255}; Val ROC {'roc_auc': 0.7105852536741123}\n",
            "Loss: 0.6931472420692444\n",
            "ROC: {'roc_auc': 0.7076667128053098}\n",
            "Recall@K: 0.37663817405700684\n",
            "Epoch 64; Train loss 0.6931470036506653; Val loss 0.6931472420692444; Train ROC {'roc_auc': 0.6589393248841039}; Val ROC {'roc_auc': 0.7076667128053098}\n",
            "Loss: 0.6931472420692444\n",
            "ROC: {'roc_auc': 0.703020526279402}\n",
            "Recall@K: 0.3733184337615967\n",
            "Epoch 65; Train loss 0.6931470036506653; Val loss 0.6931472420692444; Train ROC {'roc_auc': 0.6509799992879807}; Val ROC {'roc_auc': 0.703020526279402}\n",
            "Loss: 0.6931472420692444\n",
            "ROC: {'roc_auc': 0.698257615551705}\n",
            "Recall@K: 0.36997756361961365\n",
            "Epoch 66; Train loss 0.6931470036506653; Val loss 0.6931472420692444; Train ROC {'roc_auc': 0.6492514976456977}; Val ROC {'roc_auc': 0.698257615551705}\n",
            "Loss: 0.6931472420692444\n",
            "ROC: {'roc_auc': 0.6947242002502134}\n",
            "Recall@K: 0.36643072962760925\n",
            "Epoch 67; Train loss 0.6931470036506653; Val loss 0.6931472420692444; Train ROC {'roc_auc': 0.6478493895560239}; Val ROC {'roc_auc': 0.6947242002502134}\n",
            "Loss: 0.6931472420692444\n",
            "ROC: {'roc_auc': 0.68936218972712}\n",
            "Recall@K: 0.36459657549858093\n",
            "Epoch 68; Train loss 0.6931470036506653; Val loss 0.6931472420692444; Train ROC {'roc_auc': 0.6466642597972821}; Val ROC {'roc_auc': 0.68936218972712}\n",
            "Loss: 0.6931472420692444\n",
            "ROC: {'roc_auc': 0.6855511033161835}\n",
            "Recall@K: 0.36296385526657104\n",
            "Epoch 69; Train loss 0.6931470036506653; Val loss 0.6931472420692444; Train ROC {'roc_auc': 0.6454622768172756}; Val ROC {'roc_auc': 0.6855511033161835}\n",
            "Loss: 0.6931472420692444\n",
            "ROC: {'roc_auc': 0.6802851717897711}\n",
            "Recall@K: 0.36182400584220886\n",
            "Epoch 70; Train loss 0.6931470036506653; Val loss 0.6931472420692444; Train ROC {'roc_auc': 0.6388712831503268}; Val ROC {'roc_auc': 0.6802851717897711}\n",
            "Loss: 0.6931472420692444\n",
            "ROC: {'roc_auc': 0.6756510023451185}\n",
            "Recall@K: 0.3611862063407898\n",
            "Epoch 71; Train loss 0.6931470036506653; Val loss 0.6931472420692444; Train ROC {'roc_auc': 0.6368558833797757}; Val ROC {'roc_auc': 0.6756510023451185}\n",
            "Loss: 0.6931472420692444\n",
            "ROC: {'roc_auc': 0.6701527749669514}\n",
            "Recall@K: 0.36061468720436096\n",
            "Epoch 72; Train loss 0.6931470036506653; Val loss 0.6931472420692444; Train ROC {'roc_auc': 0.6349184740298885}; Val ROC {'roc_auc': 0.6701527749669514}\n",
            "Loss: 0.6931472420692444\n",
            "ROC: {'roc_auc': 0.665431343955721}\n",
            "Recall@K: 0.3610251843929291\n",
            "Epoch 73; Train loss 0.6931470036506653; Val loss 0.6931472420692444; Train ROC {'roc_auc': 0.633101499945734}; Val ROC {'roc_auc': 0.665431343955721}\n",
            "Loss: 0.6931472420692444\n",
            "ROC: {'roc_auc': 0.6596435460497819}\n",
            "Recall@K: 0.3614070415496826\n",
            "Epoch 74; Train loss 0.6931470036506653; Val loss 0.6931472420692444; Train ROC {'roc_auc': 0.6313606458012786}; Val ROC {'roc_auc': 0.6596435460497819}\n",
            "Loss: 0.6931472420692444\n",
            "ROC: {'roc_auc': 0.6551503169125428}\n",
            "Recall@K: 0.3615890145301819\n",
            "Epoch 75; Train loss 0.6931470036506653; Val loss 0.6931472420692444; Train ROC {'roc_auc': 0.6234516159204547}; Val ROC {'roc_auc': 0.6551503169125428}\n",
            "Loss: 0.6931472420692444\n",
            "ROC: {'roc_auc': 0.6493208575679172}\n",
            "Recall@K: 0.3620105981826782\n",
            "Epoch 76; Train loss 0.6931470036506653; Val loss 0.6931472420692444; Train ROC {'roc_auc': 0.6203541583527128}; Val ROC {'roc_auc': 0.6493208575679172}\n",
            "Loss: 0.6931472420692444\n",
            "ROC: {'roc_auc': 0.6445162809100209}\n",
            "Recall@K: 0.3620215654373169\n",
            "Epoch 77; Train loss 0.6931470036506653; Val loss 0.6931472420692444; Train ROC {'roc_auc': 0.6170355704397464}; Val ROC {'roc_auc': 0.6445162809100209}\n",
            "Loss: 0.6931471824645996\n",
            "ROC: {'roc_auc': 0.6383066544118051}\n",
            "Recall@K: 0.36260703206062317\n",
            "Epoch 78; Train loss 0.6931470036506653; Val loss 0.6931471824645996; Train ROC {'roc_auc': 0.6137260181967892}; Val ROC {'roc_auc': 0.6383066544118051}\n",
            "Loss: 0.6931471824645996\n",
            "ROC: {'roc_auc': 0.6322871772431975}\n",
            "Recall@K: 0.3619464039802551\n",
            "Epoch 79; Train loss 0.6931470036506653; Val loss 0.6931471824645996; Train ROC {'roc_auc': 0.6104116287147777}; Val ROC {'roc_auc': 0.6322871772431975}\n",
            "Loss: 0.6931471228599548\n",
            "ROC: {'roc_auc': 0.6254304890218922}\n",
            "Recall@K: 0.36189156770706177\n",
            "Epoch 80; Train loss 0.6931470036506653; Val loss 0.6931471228599548; Train ROC {'roc_auc': 0.6005172051792925}; Val ROC {'roc_auc': 0.6254304890218922}\n",
            "Val recall 0.2442125827074051\n",
            "Loss: 0.6931471228599548\n",
            "ROC: {'roc_auc': 0.6187666173529162}\n",
            "Recall@K: 0.3609956204891205\n",
            "Epoch 81; Train loss 0.6931470036506653; Val loss 0.6931471228599548; Train ROC {'roc_auc': 0.5954963411908012}; Val ROC {'roc_auc': 0.6187666173529162}\n",
            "Loss: 0.6931471228599548\n",
            "ROC: {'roc_auc': 0.6129835231661093}\n",
            "Recall@K: 0.35966116189956665\n",
            "Epoch 82; Train loss 0.6931469440460205; Val loss 0.6931471228599548; Train ROC {'roc_auc': 0.5910481718432463}; Val ROC {'roc_auc': 0.6129835231661093}\n",
            "Loss: 0.6931471228599548\n",
            "ROC: {'roc_auc': 0.6059465955139256}\n",
            "Recall@K: 0.3578713834285736\n",
            "Epoch 83; Train loss 0.6931469440460205; Val loss 0.6931471228599548; Train ROC {'roc_auc': 0.5866491173094157}; Val ROC {'roc_auc': 0.6059465955139256}\n",
            "Loss: 0.6931471228599548\n",
            "ROC: {'roc_auc': 0.5987019737967235}\n",
            "Recall@K: 0.3554646670818329\n",
            "Epoch 84; Train loss 0.6931469440460205; Val loss 0.6931471228599548; Train ROC {'roc_auc': 0.5822845432698123}; Val ROC {'roc_auc': 0.5987019737967235}\n",
            "Loss: 0.6931471228599548\n",
            "ROC: {'roc_auc': 0.5923961130869007}\n",
            "Recall@K: 0.3541768789291382\n",
            "Epoch 85; Train loss 0.6931468844413757; Val loss 0.6931471228599548; Train ROC {'roc_auc': 0.5692203903538636}; Val ROC {'roc_auc': 0.5923961130869007}\n",
            "Loss: 0.6931470632553101\n",
            "ROC: {'roc_auc': 0.5861623935947101}\n",
            "Recall@K: 0.3543749451637268\n",
            "Epoch 86; Train loss 0.6931468844413757; Val loss 0.6931470632553101; Train ROC {'roc_auc': 0.5637349516848875}; Val ROC {'roc_auc': 0.5861623935947101}\n",
            "Loss: 0.6931470632553101\n",
            "ROC: {'roc_auc': 0.5805152615720708}\n",
            "Recall@K: 0.35509756207466125\n",
            "Epoch 87; Train loss 0.6931468844413757; Val loss 0.6931470632553101; Train ROC {'roc_auc': 0.5591632279185011}; Val ROC {'roc_auc': 0.5805152615720708}\n",
            "Loss: 0.6931470632553101\n",
            "ROC: {'roc_auc': 0.5759855930064867}\n",
            "Recall@K: 0.35515278577804565\n",
            "Epoch 88; Train loss 0.6931468844413757; Val loss 0.6931470632553101; Train ROC {'roc_auc': 0.5561011719092667}; Val ROC {'roc_auc': 0.5759855930064867}\n",
            "Loss: 0.6931470036506653\n",
            "ROC: {'roc_auc': 0.5728350166464511}\n",
            "Recall@K: 0.35556507110595703\n",
            "Epoch 89; Train loss 0.6931468844413757; Val loss 0.6931470036506653; Train ROC {'roc_auc': 0.5539034298886093}; Val ROC {'roc_auc': 0.5728350166464511}\n",
            "Loss: 0.6931470036506653\n",
            "ROC: {'roc_auc': 0.5698243438641495}\n",
            "Recall@K: 0.3561955392360687\n",
            "Epoch 90; Train loss 0.6931468844413757; Val loss 0.6931470036506653; Train ROC {'roc_auc': 0.5433118149935109}; Val ROC {'roc_auc': 0.5698243438641495}\n",
            "Loss: 0.6931470036506653\n",
            "ROC: {'roc_auc': 0.5673276579476534}\n",
            "Recall@K: 0.3567810356616974\n",
            "Epoch 91; Train loss 0.6931468844413757; Val loss 0.6931470036506653; Train ROC {'roc_auc': 0.5403230445796534}; Val ROC {'roc_auc': 0.5673276579476534}\n",
            "Loss: 0.6931470036506653\n",
            "ROC: {'roc_auc': 0.5658797556076187}\n",
            "Recall@K: 0.35664236545562744\n",
            "Epoch 92; Train loss 0.6931468844413757; Val loss 0.6931470036506653; Train ROC {'roc_auc': 0.5383141252771414}; Val ROC {'roc_auc': 0.5658797556076187}\n",
            "Loss: 0.6931470036506653\n",
            "ROC: {'roc_auc': 0.5643348250152902}\n",
            "Recall@K: 0.3554542660713196\n",
            "Epoch 93; Train loss 0.6931468844413757; Val loss 0.6931470036506653; Train ROC {'roc_auc': 0.5373158603384908}; Val ROC {'roc_auc': 0.5643348250152902}\n",
            "Loss: 0.6931469440460205\n",
            "ROC: {'roc_auc': 0.5640315222371465}\n",
            "Recall@K: 0.3525216579437256\n",
            "Epoch 94; Train loss 0.6931467652320862; Val loss 0.6931469440460205; Train ROC {'roc_auc': 0.5370317981199116}; Val ROC {'roc_auc': 0.5640315222371465}\n",
            "Loss: 0.6931469440460205\n",
            "ROC: {'roc_auc': 0.5638690245792225}\n",
            "Recall@K: 0.34880533814430237\n",
            "Epoch 95; Train loss 0.6931467056274414; Val loss 0.6931469440460205; Train ROC {'roc_auc': 0.5279099459151055}; Val ROC {'roc_auc': 0.5638690245792225}\n",
            "Loss: 0.6931469440460205\n",
            "ROC: {'roc_auc': 0.563280643375884}\n",
            "Recall@K: 0.34392210841178894\n",
            "Epoch 96; Train loss 0.6931467056274414; Val loss 0.6931469440460205; Train ROC {'roc_auc': 0.5278761770438712}; Val ROC {'roc_auc': 0.563280643375884}\n",
            "Loss: 0.6931469440460205\n",
            "ROC: {'roc_auc': 0.5632444927297694}\n",
            "Recall@K: 0.33822622895240784\n",
            "Epoch 97; Train loss 0.6931467056274414; Val loss 0.6931469440460205; Train ROC {'roc_auc': 0.529359016848827}; Val ROC {'roc_auc': 0.5632444927297694}\n",
            "Loss: 0.6931469440460205\n",
            "ROC: {'roc_auc': 0.5626439415864529}\n",
            "Recall@K: 0.33512675762176514\n",
            "Epoch 98; Train loss 0.6931467056274414; Val loss 0.6931469440460205; Train ROC {'roc_auc': 0.5317973101879212}; Val ROC {'roc_auc': 0.5626439415864529}\n",
            "Loss: 0.6931468844413757\n",
            "ROC: {'roc_auc': 0.5624065399882892}\n",
            "Recall@K: 0.3291894793510437\n",
            "Epoch 99; Train loss 0.6931467056274414; Val loss 0.6931468844413757; Train ROC {'roc_auc': 0.5345770303815969}; Val ROC {'roc_auc': 0.5624065399882892}\n"
          ]
        }
      ]
    },
    {
      "cell_type": "code",
      "source": [],
      "metadata": {
        "id": "fwgwAB7KnB-6"
      },
      "execution_count": null,
      "outputs": []
    },
    {
      "cell_type": "code",
      "source": [
        "ans = test(model, datasets['test'], \"BPR\", neg_samp = \"random\")"
      ],
      "metadata": {
        "id": "3TIkH9Bbl5Jy",
        "colab": {
          "base_uri": "https://localhost:8080/"
        },
        "outputId": "f5efe692-406c-4b6f-d061-45db39705922"
      },
      "execution_count": null,
      "outputs": [
        {
          "output_type": "stream",
          "name": "stdout",
          "text": [
            "Loss: 0.6930267214775085\n",
            "ROC: {'roc_auc': 0.7302712813849445}\n",
            "Recall@K: 0.27266016602516174\n"
          ]
        }
      ]
    },
    {
      "cell_type": "code",
      "source": [
        "# Graph sage k = 300\n",
        "train(datasets, model, optimizer, \"BPR\", args, neg_samp = \"random\")"
      ],
      "metadata": {
        "id": "_Ug6B3XQwgRE",
        "colab": {
          "base_uri": "https://localhost:8080/"
        },
        "outputId": "fb483f2f-a179-4301-ea63-4a5f78bf2e80"
      },
      "execution_count": null,
      "outputs": [
        {
          "output_type": "stream",
          "name": "stdout",
          "text": [
            "Beginning training for SAGE_4_e64_nodes31194\n",
            "Loss: 0.6911334991455078\n",
            "ROC: {'roc_auc': 0.6780230587738626}\n",
            "Recall@K: 0.22439436614513397\n",
            "Epoch 0; Train loss 0.6928179264068604; Val loss 0.6911334991455078; Train ROC {'roc_auc': 0.5180973690022687}; Val ROC {'roc_auc': 0.6780230587738626}\n",
            "Val recall 0.18054236471652985\n",
            "Loss: 0.6895185708999634\n",
            "ROC: {'roc_auc': 0.7392191652043802}\n",
            "Recall@K: 0.23512442409992218\n",
            "Epoch 1; Train loss 0.6921218633651733; Val loss 0.6895185708999634; Train ROC {'roc_auc': 0.6727253578166871}; Val ROC {'roc_auc': 0.7392191652043802}\n",
            "Loss: 0.687362015247345\n",
            "ROC: {'roc_auc': 0.7568810024057023}\n",
            "Recall@K: 0.24271389842033386\n",
            "Epoch 2; Train loss 0.6911371350288391; Val loss 0.687362015247345; Train ROC {'roc_auc': 0.7382292279468917}; Val ROC {'roc_auc': 0.7568810024057023}\n",
            "Loss: 0.6842163801193237\n",
            "ROC: {'roc_auc': 0.7619867600099425}\n",
            "Recall@K: 0.2479897439479828\n",
            "Epoch 3; Train loss 0.6897317171096802; Val loss 0.6842163801193237; Train ROC {'roc_auc': 0.7557252061482849}; Val ROC {'roc_auc': 0.7619867600099425}\n",
            "Loss: 0.6799306273460388\n",
            "ROC: {'roc_auc': 0.76271181896828}\n",
            "Recall@K: 0.2535282373428345\n",
            "Epoch 4; Train loss 0.6877481937408447; Val loss 0.6799306273460388; Train ROC {'roc_auc': 0.760031161038153}; Val ROC {'roc_auc': 0.76271181896828}\n",
            "Loss: 0.6745901703834534\n",
            "ROC: {'roc_auc': 0.7599375138303701}\n",
            "Recall@K: 0.25765174627304077\n",
            "Epoch 5; Train loss 0.6888961791992188; Val loss 0.6745901703834534; Train ROC {'roc_auc': 0.7441589342776516}; Val ROC {'roc_auc': 0.7599375138303701}\n",
            "Loss: 0.6677061915397644\n",
            "ROC: {'roc_auc': 0.7573077848176917}\n",
            "Recall@K: 0.2594798505306244\n",
            "Epoch 6; Train loss 0.6864567399024963; Val loss 0.6677061915397644; Train ROC {'roc_auc': 0.7425275274823413}; Val ROC {'roc_auc': 0.7573077848176917}\n",
            "Loss: 0.6583903431892395\n",
            "ROC: {'roc_auc': 0.7519922716654031}\n",
            "Recall@K: 0.26098528504371643\n",
            "Epoch 7; Train loss 0.682876467704773; Val loss 0.6583903431892395; Train ROC {'roc_auc': 0.739517328120673}; Val ROC {'roc_auc': 0.7519922716654031}\n",
            "Loss: 0.6472489833831787\n",
            "ROC: {'roc_auc': 0.7461907290859385}\n",
            "Recall@K: 0.2621240019798279\n",
            "Epoch 8; Train loss 0.6777170300483704; Val loss 0.6472489833831787; Train ROC {'roc_auc': 0.735631247890342}; Val ROC {'roc_auc': 0.7461907290859385}\n",
            "Loss: 0.6338964104652405\n",
            "ROC: {'roc_auc': 0.7415081362217604}\n",
            "Recall@K: 0.260772705078125\n",
            "Epoch 9; Train loss 0.6704267263412476; Val loss 0.6338964104652405; Train ROC {'roc_auc': 0.7312640234218658}; Val ROC {'roc_auc': 0.7415081362217604}\n",
            "Loss: 0.6173794269561768\n",
            "ROC: {'roc_auc': 0.736127534760542}\n",
            "Recall@K: 0.2590273320674896\n",
            "Epoch 10; Train loss 0.6635075807571411; Val loss 0.6173794269561768; Train ROC {'roc_auc': 0.7134090817672438}; Val ROC {'roc_auc': 0.736127534760542}\n",
            "Loss: 0.6008480787277222\n",
            "ROC: {'roc_auc': 0.7306587989049611}\n",
            "Recall@K: 0.2589607834815979\n",
            "Epoch 11; Train loss 0.6510148644447327; Val loss 0.6008480787277222; Train ROC {'roc_auc': 0.7085300582857641}; Val ROC {'roc_auc': 0.7306587989049611}\n",
            "Loss: 0.581760823726654\n",
            "ROC: {'roc_auc': 0.7260352199632759}\n",
            "Recall@K: 0.2591300308704376\n",
            "Epoch 12; Train loss 0.6342572569847107; Val loss 0.581760823726654; Train ROC {'roc_auc': 0.7038176447557609}; Val ROC {'roc_auc': 0.7260352199632759}\n",
            "Loss: 0.567903995513916\n",
            "ROC: {'roc_auc': 0.718982596493581}\n",
            "Recall@K: 0.2591066360473633\n",
            "Epoch 13; Train loss 0.612615168094635; Val loss 0.567903995513916; Train ROC {'roc_auc': 0.6994960681272685}; Val ROC {'roc_auc': 0.718982596493581}\n",
            "Loss: 0.5610204935073853\n",
            "ROC: {'roc_auc': 0.7159055105144979}\n",
            "Recall@K: 0.26149293780326843\n",
            "Epoch 14; Train loss 0.5862109065055847; Val loss 0.5610204935073853; Train ROC {'roc_auc': 0.6958191444662631}; Val ROC {'roc_auc': 0.7159055105144979}\n",
            "Loss: 0.5701824426651001\n",
            "ROC: {'roc_auc': 0.7138649348179714}\n",
            "Recall@K: 0.2641370892524719\n",
            "Epoch 15; Train loss 0.5727357268333435; Val loss 0.5701824426651001; Train ROC {'roc_auc': 0.6791153815235745}; Val ROC {'roc_auc': 0.7138649348179714}\n",
            "Loss: 0.6112377643585205\n",
            "ROC: {'roc_auc': 0.7102695438637363}\n",
            "Recall@K: 0.2714138329029083\n",
            "Epoch 16; Train loss 0.5499672293663025; Val loss 0.6112377643585205; Train ROC {'roc_auc': 0.6775323327377225}; Val ROC {'roc_auc': 0.7102695438637363}\n",
            "Loss: 0.6631003618240356\n",
            "ROC: {'roc_auc': 0.7127485311744852}\n",
            "Recall@K: 0.28199008107185364\n",
            "Epoch 17; Train loss 0.5364547371864319; Val loss 0.6631003618240356; Train ROC {'roc_auc': 0.67811441001331}; Val ROC {'roc_auc': 0.7127485311744852}\n",
            "Loss: 0.707270622253418\n",
            "ROC: {'roc_auc': 0.7121342839634641}\n",
            "Recall@K: 0.2962856590747833\n",
            "Epoch 18; Train loss 0.5356606841087341; Val loss 0.707270622253418; Train ROC {'roc_auc': 0.6812796267232114}; Val ROC {'roc_auc': 0.7121342839634641}\n",
            "Loss: 0.7059404850006104\n",
            "ROC: {'roc_auc': 0.7156482420146586}\n",
            "Recall@K: 0.30534911155700684\n",
            "Epoch 19; Train loss 0.5363309383392334; Val loss 0.7059404850006104; Train ROC {'roc_auc': 0.686808815611601}; Val ROC {'roc_auc': 0.7156482420146586}\n",
            "Loss: 0.6735332608222961\n",
            "ROC: {'roc_auc': 0.7176982938609501}\n",
            "Recall@K: 0.31379884481430054\n",
            "Epoch 20; Train loss 0.5617362260818481; Val loss 0.6735332608222961; Train ROC {'roc_auc': 0.6772260362481302}; Val ROC {'roc_auc': 0.7176982938609501}\n",
            "Val recall 0.22258831560611725\n",
            "Loss: 0.6323049068450928\n",
            "ROC: {'roc_auc': 0.7222748309241525}\n",
            "Recall@K: 0.3206682503223419\n",
            "Epoch 21; Train loss 0.5480700731277466; Val loss 0.6323049068450928; Train ROC {'roc_auc': 0.6824959702259333}; Val ROC {'roc_auc': 0.7222748309241525}\n",
            "Loss: 0.5982109904289246\n",
            "ROC: {'roc_auc': 0.7234436403275353}\n",
            "Recall@K: 0.3297232985496521\n",
            "Epoch 22; Train loss 0.5337129235267639; Val loss 0.5982109904289246; Train ROC {'roc_auc': 0.6878114220096192}; Val ROC {'roc_auc': 0.7234436403275353}\n",
            "Loss: 0.5699635744094849\n",
            "ROC: {'roc_auc': 0.7273363632375427}\n",
            "Recall@K: 0.3317621946334839\n",
            "Epoch 23; Train loss 0.523133397102356; Val loss 0.5699635744094849; Train ROC {'roc_auc': 0.6930501513170065}; Val ROC {'roc_auc': 0.7273363632375427}\n",
            "Loss: 0.5541127920150757\n",
            "ROC: {'roc_auc': 0.7287236138703963}\n",
            "Recall@K: 0.33376556634902954\n",
            "Epoch 24; Train loss 0.5171557068824768; Val loss 0.5541127920150757; Train ROC {'roc_auc': 0.6981006147488202}; Val ROC {'roc_auc': 0.7287236138703963}\n",
            "Loss: 0.5414323806762695\n",
            "ROC: {'roc_auc': 0.7320282283335655}\n",
            "Recall@K: 0.33526352047920227\n",
            "Epoch 25; Train loss 0.5403133630752563; Val loss 0.5414323806762695; Train ROC {'roc_auc': 0.6846751056487314}; Val ROC {'roc_auc': 0.7320282283335655}\n",
            "Loss: 0.5325076580047607\n",
            "ROC: {'roc_auc': 0.734747865750139}\n",
            "Recall@K: 0.33308762311935425\n",
            "Epoch 26; Train loss 0.5397586822509766; Val loss 0.5325076580047607; Train ROC {'roc_auc': 0.6869757875614626}; Val ROC {'roc_auc': 0.734747865750139}\n",
            "Loss: 0.5311363935470581\n",
            "ROC: {'roc_auc': 0.7353415682688822}\n",
            "Recall@K: 0.33325624465942383\n",
            "Epoch 27; Train loss 0.5385764241218567; Val loss 0.5311363935470581; Train ROC {'roc_auc': 0.6892170332606861}; Val ROC {'roc_auc': 0.7353415682688822}\n",
            "Loss: 0.5290209054946899\n",
            "ROC: {'roc_auc': 0.7359153459447263}\n",
            "Recall@K: 0.3318362236022949\n",
            "Epoch 28; Train loss 0.5362125635147095; Val loss 0.5290209054946899; Train ROC {'roc_auc': 0.6912382719461024}; Val ROC {'roc_auc': 0.7359153459447263}\n",
            "Loss: 0.5304935574531555\n",
            "ROC: {'roc_auc': 0.7352612224698405}\n",
            "Recall@K: 0.3304719924926758\n",
            "Epoch 29; Train loss 0.5325426459312439; Val loss 0.5304935574531555; Train ROC {'roc_auc': 0.6929808323434807}; Val ROC {'roc_auc': 0.7352612224698405}\n",
            "Loss: 0.5302248597145081\n",
            "ROC: {'roc_auc': 0.7352112273710802}\n",
            "Recall@K: 0.3273375332355499\n",
            "Epoch 30; Train loss 0.5546562075614929; Val loss 0.5302248597145081; Train ROC {'roc_auc': 0.6735768179234501}; Val ROC {'roc_auc': 0.7352112273710802}\n",
            "Loss: 0.5371443033218384\n",
            "ROC: {'roc_auc': 0.7328155745934453}\n",
            "Recall@K: 0.32533323764801025\n",
            "Epoch 31; Train loss 0.5525323748588562; Val loss 0.5371443033218384; Train ROC {'roc_auc': 0.6727493823252632}; Val ROC {'roc_auc': 0.7328155745934453}\n",
            "Loss: 0.5377349853515625\n",
            "ROC: {'roc_auc': 0.7343531951407993}\n",
            "Recall@K: 0.3244357705116272\n",
            "Epoch 32; Train loss 0.5497418642044067; Val loss 0.5377349853515625; Train ROC {'roc_auc': 0.6724778478961243}; Val ROC {'roc_auc': 0.7343531951407993}\n",
            "Loss: 0.5430207252502441\n",
            "ROC: {'roc_auc': 0.732643314892131}\n",
            "Recall@K: 0.3241351544857025\n",
            "Epoch 33; Train loss 0.5465958714485168; Val loss 0.5430207252502441; Train ROC {'roc_auc': 0.6727287651835628}; Val ROC {'roc_auc': 0.732643314892131}\n",
            "Loss: 0.5508017539978027\n",
            "ROC: {'roc_auc': 0.7307823583481219}\n",
            "Recall@K: 0.32556676864624023\n",
            "Epoch 34; Train loss 0.5432107448577881; Val loss 0.5508017539978027; Train ROC {'roc_auc': 0.6734700118544477}; Val ROC {'roc_auc': 0.7307823583481219}\n",
            "Loss: 0.5555079579353333\n",
            "ROC: {'roc_auc': 0.7278319570261682}\n",
            "Recall@K: 0.32675841450691223\n",
            "Epoch 35; Train loss 0.5697457790374756; Val loss 0.5555079579353333; Train ROC {'roc_auc': 0.6540257423449708}; Val ROC {'roc_auc': 0.7278319570261682}\n",
            "Loss: 0.5498046278953552\n",
            "ROC: {'roc_auc': 0.7281962540994742}\n",
            "Recall@K: 0.3282957971096039\n",
            "Epoch 36; Train loss 0.5675458908081055; Val loss 0.5498046278953552; Train ROC {'roc_auc': 0.6539113918923991}; Val ROC {'roc_auc': 0.7281962540994742}\n",
            "Loss: 0.5516301393508911\n",
            "ROC: {'roc_auc': 0.7262395697007202}\n",
            "Recall@K: 0.33040952682495117\n",
            "Epoch 37; Train loss 0.5635402202606201; Val loss 0.5516301393508911; Train ROC {'roc_auc': 0.6547571648728815}; Val ROC {'roc_auc': 0.7262395697007202}\n",
            "Loss: 0.5469865202903748\n",
            "ROC: {'roc_auc': 0.724956152392633}\n",
            "Recall@K: 0.3319627046585083\n",
            "Epoch 38; Train loss 0.5586684942245483; Val loss 0.5469865202903748; Train ROC {'roc_auc': 0.6563079669199999}; Val ROC {'roc_auc': 0.724956152392633}\n",
            "Loss: 0.5433874130249023\n",
            "ROC: {'roc_auc': 0.7243746364517714}\n",
            "Recall@K: 0.3335173428058624\n",
            "Epoch 39; Train loss 0.5538194179534912; Val loss 0.5433874130249023; Train ROC {'roc_auc': 0.6583418472065186}; Val ROC {'roc_auc': 0.7243746364517714}\n",
            "Loss: 0.5353395938873291\n",
            "ROC: {'roc_auc': 0.725563966107831}\n",
            "Recall@K: 0.3332657814025879\n",
            "Epoch 40; Train loss 0.5791798830032349; Val loss 0.5353395938873291; Train ROC {'roc_auc': 0.6393783609187202}; Val ROC {'roc_auc': 0.725563966107831}\n",
            "Val recall 0.23762571811676025\n",
            "Loss: 0.5355488657951355\n",
            "ROC: {'roc_auc': 0.7232550649013887}\n",
            "Recall@K: 0.33368048071861267\n",
            "Epoch 41; Train loss 0.5769283175468445; Val loss 0.5355488657951355; Train ROC {'roc_auc': 0.6394418027015586}; Val ROC {'roc_auc': 0.7232550649013887}\n",
            "Loss: 0.5375739932060242\n",
            "ROC: {'roc_auc': 0.7203178875420024}\n",
            "Recall@K: 0.3342415392398834\n",
            "Epoch 42; Train loss 0.5748304724693298; Val loss 0.5375739932060242; Train ROC {'roc_auc': 0.6399382869167344}; Val ROC {'roc_auc': 0.7203178875420024}\n",
            "Loss: 0.5362074971199036\n",
            "ROC: {'roc_auc': 0.7192507736856686}\n",
            "Recall@K: 0.33465221524238586\n",
            "Epoch 43; Train loss 0.5728873610496521; Val loss 0.5362074971199036; Train ROC {'roc_auc': 0.6407560068459174}; Val ROC {'roc_auc': 0.7192507736856686}\n",
            "Loss: 0.5368037223815918\n",
            "ROC: {'roc_auc': 0.7177845726786123}\n",
            "Recall@K: 0.335098534822464\n",
            "Epoch 44; Train loss 0.5709022879600525; Val loss 0.5368037223815918; Train ROC {'roc_auc': 0.6418108861320044}; Val ROC {'roc_auc': 0.7177845726786123}\n",
            "Loss: 0.5387411117553711\n",
            "ROC: {'roc_auc': 0.7161463280315887}\n",
            "Recall@K: 0.33520764112472534\n",
            "Epoch 45; Train loss 0.5946077108383179; Val loss 0.5387411117553711; Train ROC {'roc_auc': 0.6208984115596524}; Val ROC {'roc_auc': 0.7161463280315887}\n",
            "Loss: 0.5381656289100647\n",
            "ROC: {'roc_auc': 0.71482657002978}\n",
            "Recall@K: 0.3350566625595093\n",
            "Epoch 46; Train loss 0.5937906503677368; Val loss 0.5381656289100647; Train ROC {'roc_auc': 0.6201904346641292}; Val ROC {'roc_auc': 0.71482657002978}\n",
            "Loss: 0.5419721603393555\n",
            "ROC: {'roc_auc': 0.711807438669237}\n",
            "Recall@K: 0.33575892448425293\n",
            "Epoch 47; Train loss 0.5922282934188843; Val loss 0.5419721603393555; Train ROC {'roc_auc': 0.6201134041143208}; Val ROC {'roc_auc': 0.711807438669237}\n",
            "Loss: 0.5438473224639893\n",
            "ROC: {'roc_auc': 0.7096349613772677}\n",
            "Recall@K: 0.3361579477787018\n",
            "Epoch 48; Train loss 0.5900381207466125; Val loss 0.5438473224639893; Train ROC {'roc_auc': 0.6205619279655824}; Val ROC {'roc_auc': 0.7096349613772677}\n",
            "Loss: 0.5427132844924927\n",
            "ROC: {'roc_auc': 0.7099844199468701}\n",
            "Recall@K: 0.3359636068344116\n",
            "Epoch 49; Train loss 0.5873240828514099; Val loss 0.5427132844924927; Train ROC {'roc_auc': 0.6214585581211721}; Val ROC {'roc_auc': 0.7099844199468701}\n"
          ]
        }
      ]
    },
    {
      "cell_type": "markdown",
      "source": [
        "SAGEConv:\n",
        "\n",
        "k = 10, ROC = 0.7061022811225286, Recall = 0.16834692656993866\n",
        "\n",
        "k = 50, ROC = 0.7024387202884442, Recall = 0.20442530512809753\n",
        "\n",
        "k = 100, ROC = 0.7061730472543717, Recall = 0.23681558668613434\n",
        "\n",
        "k = 300, ROC = 0.6839305592147267, Recall = 0.3541850531101227\n",
        "\n",
        "k = 500, ROC = 0.708172082120065, Recall = 0.3920811414718628\n",
        "\n",
        "\n",
        "LightGCN:\n",
        "\n",
        "k = 10, ROC = 0.66, Recall = 0.17\n",
        "\n",
        "k = 50, ROC = 0.6557399385517697, Recall = 0.17313285171985626\n",
        "\n",
        "k = 100, ROC = 0.6727467165098252, Recall = 0.24632585048675537\n",
        "\n",
        "k = 300, ROC = 0.655, Recall = 0.30\n",
        "\n",
        "k = 500, ROC = 0.66, Recall = 0.3304\n",
        "\n",
        "\n",
        "---\n",
        "\n",
        "\n"
      ],
      "metadata": {
        "id": "Ai9bYpjDuGml"
      }
    },
    {
      "cell_type": "code",
      "source": [
        "## Light GCN summary\n",
        "print(model)"
      ],
      "metadata": {
        "id": "xKjVkXwYjzg5",
        "colab": {
          "base_uri": "https://localhost:8080/"
        },
        "outputId": "7eab0146-a737-410e-ee3f-cc92e9a8ffdf"
      },
      "execution_count": null,
      "outputs": [
        {
          "output_type": "stream",
          "name": "stdout",
          "text": [
            "LightGCN(31194, 64, num_layers=5)\n"
          ]
        }
      ]
    },
    {
      "cell_type": "code",
      "source": [
        "lgcn_stats = train(datasets, model, optimizer, \"BPR\", args, neg_samp = \"random\")"
      ],
      "metadata": {
        "id": "LXXTzJdLjzVq",
        "colab": {
          "base_uri": "https://localhost:8080/"
        },
        "outputId": "42db49c8-10ac-452f-9860-99d510c8bfcd"
      },
      "execution_count": null,
      "outputs": [
        {
          "output_type": "stream",
          "name": "stdout",
          "text": [
            "Beginning training for SAGE_4_e64_nodes31194\n",
            "Loss: 0.690796971321106\n",
            "ROC: {'roc_auc': 0.6722341262647396}\n",
            "Recall@K: 0.2130078822374344\n",
            "Epoch 0; Train loss 0.6926814317703247; Val loss 0.690796971321106; Train ROC {'roc_auc': 0.5147253248869887}; Val ROC {'roc_auc': 0.6722341262647396}\n",
            "Val recall 0.1797197461128235\n"
          ]
        }
      ]
    },
    {
      "cell_type": "code",
      "source": [
        "def detach_loss(stats):\n",
        "  return [loss.detach().cpu().numpy().item() for loss in stats]\n",
        "\n",
        "def plot_train_val_loss(stats_dict):\n",
        "  fig, ax = plt.subplots(1,1, figsize = (6, 4))\n",
        "  train_loss = detach_loss(stats_dict[\"train\"][\"loss\"])\n",
        "  val_loss = detach_loss(stats_dict[\"val\"][\"loss\"])\n",
        "  idx = np.arange(0, len(train_loss), 1)\n",
        "  ax.plot(idx, train_loss, label = \"train\")\n",
        "  ax.plot(idx, val_loss, label = \"val\")\n",
        "  ax.legend()\n",
        "  plt.show()\n"
      ],
      "metadata": {
        "id": "Lg1CB-AQjzSp"
      },
      "execution_count": null,
      "outputs": []
    },
    {
      "cell_type": "code",
      "source": [
        "plot_train_val_loss(lgcn_stats)"
      ],
      "metadata": {
        "id": "KFeiZR62gwrO",
        "colab": {
          "base_uri": "https://localhost:8080/",
          "height": 370
        },
        "outputId": "0f1228b5-1256-4e9d-d4ec-72607ef1cea4"
      },
      "execution_count": null,
      "outputs": [
        {
          "output_type": "display_data",
          "data": {
            "text/plain": [
              "<Figure size 600x400 with 1 Axes>"
            ],
            "image/png": "[encoded data removed]"
          },
          "metadata": {}
        }
      ]
    },
    {
      "cell_type": "code",
      "source": [
        "val_losses = [\n",
        "    0.6911334991455078, 0.6895185708999634, 0.687362015247345, 0.6842163801193237,\n",
        "    0.6799306273460388, 0.6745901703834534, 0.6677061915397644, 0.6583903431892395,\n",
        "    0.6472489833831787, 0.6338964104652405, 0.6173794269561768, 0.6008480787277222,\n",
        "    0.581760823726654, 0.567903995513916, 0.5610204935073853, 0.5701824426651001,\n",
        "    0.6112377643585205, 0.6631003618240356, 0.707270622253418, 0.7059404850006104,\n",
        "    0.6735332608222961, 0.6323049068450928, 0.5982109904289246, 0.5699635744094849,\n",
        "    0.5541127920150757, 0.5414323806762695, 0.5325076580047607, 0.5311363935470581,\n",
        "    0.5290209054946899, 0.5304935574531555, 0.5302248597145081, 0.5371443033218384,\n",
        "    0.5525323748588562, 0.5377349853515625, 0.5430207252502441, 0.5508017539978027,\n",
        "    0.5555079579353333, 0.5498046278953552, 0.5516301393508911, 0.5469865202903748,\n",
        "    0.5586684942245483\n",
        "]\n",
        "\n",
        "train_losses = [0.6928179264068604, 0.6921218633651733, 0.6911371350288391, 0.6897317171096802, 0.6877481937408447, 0.6888961791992188, 0.6864567399024963, 0.682876467704773, 0.6777170300483704, 0.6704267263412476, 0.6635075807571411, 0.6510148644447327, 0.6342572569847107, 0.612615168094635, 0.5862109065055847, 0.5727357268333435, 0.5499672293663025, 0.5364547371864319, 0.5356606841087341, 0.5363309383392334, 0.5617362260818481, 0.5480700731277466, 0.5337129235267639, 0.523133397102356, 0.5171557068824768, 0.5403133630752563, 0.5397586822509766, 0.5385764241218567, 0.5362125635147095, 0.5325426459312439, 0.5546562075614929, 0.5525323748588562, 0.5497418642044067, 0.5465958714485168, 0.5432107448577881, 0.5697457790374756, 0.5675458908081055, 0.5635402202606201, 0.5586684942245483, 0.5538194179534912]\n",
        "\n",
        "# Create a plot\n",
        "plt.figure(figsize=(10, 5))\n",
        "plt.plot(range(len(val_losses)), val_losses, color='b', label='Validation Loss')\n",
        "plt.plot(range(len(train_losses)), train_losses, color='r', label='Training Loss')\n",
        "plt.title('Training and Validation Loss Over Epochs')\n",
        "plt.xlabel('Epochs')\n",
        "plt.ylabel('Loss')\n",
        "plt.grid(True)\n",
        "plt.legend()\n",
        "plt.show()"
      ],
      "metadata": {
        "id": "cjiRNk2fgwXA",
        "colab": {
          "base_uri": "https://localhost:8080/",
          "height": 487
        },
        "outputId": "8f73344c-3045-4e0e-d13c-e2f62a85b1d5"
      },
      "execution_count": null,
      "outputs": [
        {
          "output_type": "display_data",
          "data": {
            "text/plain": [
              "<Figure size 1000x500 with 1 Axes>"
            ],
            "image/png": "[encoded data removed]"
          },
          "metadata": {}
        }
      ]
    },
    {
      "cell_type": "code",
      "source": [
        "recallk = [0.22439436614513397,\n",
        " 0.23512442409992218,\n",
        " 0.24271389842033386,\n",
        " 0.2479897439479828,\n",
        " 0.2535282373428345,\n",
        " 0.25765174627304077,\n",
        " 0.2594798505306244,\n",
        " 0.26098528504371643,\n",
        " 0.2621240019798279,\n",
        " 0.260772705078125,\n",
        " 0.2590273320674896,\n",
        " 0.2589607834815979,\n",
        " 0.2591300308704376,\n",
        " 0.2591066360473633,\n",
        " 0.26149293780326843,\n",
        " 0.2641370892524719,\n",
        " 0.2714138329029083,\n",
        " 0.28199008107185364,\n",
        " 0.2962856590747833,\n",
        " 0.30534911155700684,\n",
        " 0.31379884481430054,\n",
        " 0.3206682503223419,\n",
        " 0.3297232985496521,\n",
        " 0.3317621946334839,\n",
        " 0.33376556634902954,\n",
        " 0.33526352047920227,\n",
        " 0.33608762311935425,\n",
        " 0.33825624465942383,\n",
        " 0.3398362236022949,\n",
        " 0.3404719924926758,\n",
        " 0.3433375332355499,\n",
        " 0.34533323764801025,\n",
        " 0.3464357705116272,\n",
        " 0.349351544857025,\n",
        " 0.35156676864624023,\n",
        " 0.35675841450691223,\n",
        " 0.3682957971096039,\n",
        " 0.37040952682495117,\n",
        " 0.3819627046585083,\n",
        " 0.3835173428058624]"
      ],
      "metadata": {
        "id": "xCgz_Rcvgg4N"
      },
      "execution_count": null,
      "outputs": []
    },
    {
      "cell_type": "code",
      "source": [
        "# Create a plot\n",
        "plt.figure(figsize=(10, 5))\n",
        "plt.plot(range(len(recallk)), recallk, color='b')\n",
        "plt.title('Recall @ k vs Epochs')\n",
        "plt.xlabel('Epochs')\n",
        "plt.ylabel('Recall @k ')\n",
        "plt.show()"
      ],
      "metadata": {
        "id": "faNC55dtUo90",
        "colab": {
          "base_uri": "https://localhost:8080/",
          "height": 487
        },
        "outputId": "7bcb5da3-6e45-4fc6-be82-48bdab7b1620"
      },
      "execution_count": null,
      "outputs": [
        {
          "output_type": "display_data",
          "data": {
            "text/plain": [
              "<Figure size 1000x500 with 1 Axes>"
            ],
            "image/png": "[encoded data removed]"
          },
          "metadata": {}
        }
      ]
    },
    {
      "cell_type": "code",
      "source": [
        "print(\"Predicted Scores:\", preds[:100])\n",
        "print(\"Labels:\", labels[np.argsort(-preds)][:100])"
      ],
      "metadata": {
        "id": "0J9coHOGUeCK"
      },
      "execution_count": null,
      "outputs": []
    },
    {
      "cell_type": "code",
      "source": [
        "print(lgcn_stats['train']['loss'])"
      ],
      "metadata": {
        "id": "80qW-yUEUd_h"
      },
      "execution_count": null,
      "outputs": []
    },
    {
      "cell_type": "code",
      "source": [
        "l"
      ],
      "metadata": {
        "id": "jQPcr6bLUd7b"
      },
      "execution_count": null,
      "outputs": []
    },
    {
      "cell_type": "code",
      "source": [
        "\n",
        "# Data for GraphSAGE\n",
        "k_sage = [10, 50, 100, 300, 500]\n",
        "roc_sage = [0.7061022811225286, 0.7024387202884442, 0.7061730472543717,\n",
        "            0.6839305592147267, 0.708172082120065]\n",
        "\n",
        "# Data for LightGCN\n",
        "k_lightgcn = [10, 50, 100, 300, 500]\n",
        "roc_lightgcn = [0.66, 0.6557399385517697, 0.6727467165098252,\n",
        "                0.655, 0.66]\n",
        "\n",
        "# Plotting the ROC curves\n",
        "plt.figure(figsize=(8, 6))\n",
        "\n",
        "# GraphSAGE ROC curve\n",
        "plt.plot(k_sage, roc_sage, marker='o', label='GraphSAGE', color='b', linestyle='-', linewidth=2)\n",
        "\n",
        "# LightGCN ROC curve\n",
        "plt.plot(k_lightgcn, roc_lightgcn, marker='o', label='LightGCN', color='r', linestyle='-', linewidth=2)\n",
        "\n",
        "# Setting the axis limits\n",
        "plt.ylim(0, 1)\n",
        "\n",
        "# Adding labels and title\n",
        "plt.xlabel('k (Number of Neighbors)', fontsize=12)\n",
        "plt.ylabel('ROC AUC', fontsize=12)\n",
        "plt.title('ROC AUC vs k for GraphSAGE and LightGCN', fontsize=14)\n",
        "\n",
        "# Displaying legend\n",
        "plt.legend()\n",
        "\n",
        "# Show the plot\n",
        "plt.show()"
      ],
      "metadata": {
        "colab": {
          "base_uri": "https://localhost:8080/",
          "height": 569
        },
        "id": "iUBkSMP3OxOO",
        "outputId": "fbc9354b-ed5c-4a67-fc21-189b47015167"
      },
      "execution_count": null,
      "outputs": [
        {
          "output_type": "display_data",
          "data": {
            "text/plain": [
              "<Figure size 800x600 with 1 Axes>"
            ],
            "image/png": "[encoded data removed]"
          },
          "metadata": {}
        }
      ]
    },
    {
      "cell_type": "code",
      "source": [],
      "metadata": {
        "id": "RTivH04JOxgk"
      },
      "execution_count": null,
      "outputs": []
    },
    {
      "cell_type": "markdown",
      "source": [],
      "metadata": {
        "id": "j_VsmyxH2jPp"
      }
    },
    {
      "cell_type": "code",
      "source": [
        "import numpy as np\n",
        "\n",
        "def dcg_at_k(scores, k=500):\n",
        "    \"\"\"\n",
        "    Compute Discounted Cumulative Gain (DCG) at rank K.\n",
        "    Args:\n",
        "        scores (list or np.ndarray): Relevance scores.\n",
        "        k (int): Rank cutoff.\n",
        "    Returns:\n",
        "        float: DCG value.\n",
        "    \"\"\"\n",
        "    scores = np.asfarray(scores)[:k]\n",
        "    if scores.size:\n",
        "        return np.sum(scores / np.log2(np.arange(2, scores.size + 2)))\n",
        "    return 0.0\n",
        "\n",
        "def ndcg_at_k(labels, preds, k=200):\n",
        "    \"\"\"\n",
        "    Compute Normalized Discounted Cumulative Gain (NDCG) at rank K.\n",
        "    Args:\n",
        "        labels (list or np.ndarray): Ground truth relevance (binary: 0 or 1).\n",
        "        preds (list or np.ndarray): Predicted scores (continuous between 0 and 1).\n",
        "        k (int): Rank cutoff.\n",
        "    Returns:\n",
        "        float: NDCG value.\n",
        "    \"\"\"\n",
        "    # Convert preds and labels to NumPy arrays if they aren't already\n",
        "    labels = np.array(labels)\n",
        "    preds = np.array(preds)\n",
        "\n",
        "    # Sort predictions in descending order\n",
        "    order = np.argsort(-preds)\n",
        "    sorted_labels = labels[order]  # Align labels with sorted predictions\n",
        "\n",
        "    # Compute DCG and Ideal DCG\n",
        "    dcg = dcg_at_k(sorted_labels, k)\n",
        "    ideal_dcg = dcg_at_k(sorted(sorted_labels, reverse=True), k)\n",
        "\n",
        "    # Handle edge case where ideal DCG is 0\n",
        "    return dcg / ideal_dcg if ideal_dcg > 0 else 0.0\n",
        "\n",
        "# Debug function to check predictions and NDCG computation\n",
        "def debug_ndcg(labels, preds, k=1):\n",
        "    \"\"\"\n",
        "    Debug NDCG computation by printing intermediate values.\n",
        "    Args:\n",
        "        labels (list or np.ndarray): Ground truth relevance.\n",
        "        preds (list or np.ndarray): Predicted scores.\n",
        "        k (int): Rank cutoff.\n",
        "    \"\"\"\n",
        "    labels = np.array(labels)\n",
        "    preds = np.array(preds)\n",
        "\n",
        "    print(\"Original Labels:\", labels)\n",
        "    print(\"Original Predictions:\", preds)\n",
        "\n",
        "    # Sort predictions and align labels\n",
        "    order = np.argsort(-preds)\n",
        "    sorted_preds = preds[order]\n",
        "    sorted_labels = labels[order]\n",
        "\n",
        "    print(\"Sorted Predictions:\", sorted_preds)\n",
        "    print(\"Sorted Labels:\", sorted_labels)\n",
        "\n",
        "    # Compute NDCG\n",
        "    ndcg = ndcg_at_k(sorted_preds, sorted_labels, k)\n",
        "    print(f\"NDCG@{k}: {ndcg}\")\n",
        "    return ndcg\n",
        "\n",
        "# Example usage\n",
        "labels = [1, 0, 1, 0, 1]  # Binary relevance\n",
        "preds = [0.9, 0.6, 0.8, 0.6, 0.7]  # Predicted scores\n",
        "k = 3\n",
        "\n",
        "# Compute NDCG and debug\n",
        "debug_ndcg(labels, preds, k)\n"
      ],
      "metadata": {
        "id": "nhncwVPPkgf6"
      },
      "execution_count": null,
      "outputs": []
    },
    {
      "cell_type": "code",
      "source": [
        "labels = np.array([1, 1, 0, 0, 0, 0])\n",
        "preds = np.array([0.1, 0.2, 0.3, 0.4, 0.5, 0.6])\n",
        "\n",
        "print(\"NDCG@3:\", ndcg_at_k(labels, preds, k=3))  # Expect close to 0.0\n",
        "print(\"NDCG@6:\", ndcg_at_k(labels, preds, k=6))  # Expect close to 0.0\n"
      ],
      "metadata": {
        "id": "JVD5I3GT2MTH"
      },
      "execution_count": null,
      "outputs": []
    },
    {
      "cell_type": "code",
      "source": [],
      "metadata": {
        "id": "V7W8ZJ4v2MQ3"
      },
      "execution_count": null,
      "outputs": []
    },
    {
      "cell_type": "code",
      "source": [],
      "metadata": {
        "id": "EQrYrcLg2MOf"
      },
      "execution_count": null,
      "outputs": []
    }
  ],
  "metadata": {
    "colab": {
      "provenance": [],
      "gpuType": "T4"
    },
    "kernelspec": {
      "display_name": "Python 3",
      "name": "python3"
    },
    "language_info": {
      "name": "python"
    },
    "widgets": {
      "application/vnd.jupyter.widget-state+json": {
        "85686b590d21437eaeba81b14ec7b1ef": {
          "model_module": "@jupyter-widgets/controls",
          "model_name": "HBoxModel",
          "model_module_version": "1.5.0",
          "state": {
            "_dom_classes": [],
            "_model_module": "@jupyter-widgets/controls",
            "_model_module_version": "1.5.0",
            "_model_name": "HBoxModel",
            "_view_count": null,
            "_view_module": "@jupyter-widgets/controls",
            "_view_module_version": "1.5.0",
            "_view_name": "HBoxView",
            "box_style": "",
            "children": [
              "IPY_MODEL_9b8798b5f8d14d12b9fd68f6211a8a0d",
              "IPY_MODEL_093dc3be48ff4641954f2ec6ffc97179",
              "IPY_MODEL_72edc9539c5d4148b214a9c7510a605b"
            ],
            "layout": "IPY_MODEL_9dbab0f72a004fab9b4b9c7e3535b9d6"
          }
        },
        "9b8798b5f8d14d12b9fd68f6211a8a0d": {
          "model_module": "@jupyter-widgets/controls",
          "model_name": "HTMLModel",
          "model_module_version": "1.5.0",
          "state": {
            "_dom_classes": [],
            "_model_module": "@jupyter-widgets/controls",
            "_model_module_version": "1.5.0",
            "_model_name": "HTMLModel",
            "_view_count": null,
            "_view_module": "@jupyter-widgets/controls",
            "_view_module_version": "1.5.0",
            "_view_name": "HTMLView",
            "description": "",
            "description_tooltip": null,
            "layout": "IPY_MODEL_d681f6d4d0a54b038803dde7992f3146",
            "placeholder": "​",
            "style": "IPY_MODEL_724b0a6f9db2456a89abab7934ff5865",
            "value": "Files processed: 100%"
          }
        },
        "093dc3be48ff4641954f2ec6ffc97179": {
          "model_module": "@jupyter-widgets/controls",
          "model_name": "FloatProgressModel",
          "model_module_version": "1.5.0",
          "state": {
            "_dom_classes": [],
            "_model_module": "@jupyter-widgets/controls",
            "_model_module_version": "1.5.0",
            "_model_name": "FloatProgressModel",
            "_view_count": null,
            "_view_module": "@jupyter-widgets/controls",
            "_view_module_version": "1.5.0",
            "_view_name": "ProgressView",
            "bar_style": "success",
            "description": "",
            "description_tooltip": null,
            "layout": "IPY_MODEL_62ad9584b61642c0864b5f23eb1438da",
            "max": 30,
            "min": 0,
            "orientation": "horizontal",
            "style": "IPY_MODEL_65c765d0703d486784cd8a29e6faccb4",
            "value": 30
          }
        },
        "72edc9539c5d4148b214a9c7510a605b": {
          "model_module": "@jupyter-widgets/controls",
          "model_name": "HTMLModel",
          "model_module_version": "1.5.0",
          "state": {
            "_dom_classes": [],
            "_model_module": "@jupyter-widgets/controls",
            "_model_module_version": "1.5.0",
            "_model_name": "HTMLModel",
            "_view_count": null,
            "_view_module": "@jupyter-widgets/controls",
            "_view_module_version": "1.5.0",
            "_view_name": "HTMLView",
            "description": "",
            "description_tooltip": null,
            "layout": "IPY_MODEL_38ef07078d9d42219676ce4c0d8aa4dd",
            "placeholder": "​",
            "style": "IPY_MODEL_d597ff897547459285996cf320db4d29",
            "value": " 30/30 [01:05&lt;00:00,  1.97s/files]"
          }
        },
        "9dbab0f72a004fab9b4b9c7e3535b9d6": {
          "model_module": "@jupyter-widgets/base",
          "model_name": "LayoutModel",
          "model_module_version": "1.2.0",
          "state": {
            "_model_module": "@jupyter-widgets/base",
            "_model_module_version": "1.2.0",
            "_model_name": "LayoutModel",
            "_view_count": null,
            "_view_module": "@jupyter-widgets/base",
            "_view_module_version": "1.2.0",
            "_view_name": "LayoutView",
            "align_content": null,
            "align_items": null,
            "align_self": null,
            "border": null,
            "bottom": null,
            "display": null,
            "flex": null,
            "flex_flow": null,
            "grid_area": null,
            "grid_auto_columns": null,
            "grid_auto_flow": null,
            "grid_auto_rows": null,
            "grid_column": null,
            "grid_gap": null,
            "grid_row": null,
            "grid_template_areas": null,
            "grid_template_columns": null,
            "grid_template_rows": null,
            "height": null,
            "justify_content": null,
            "justify_items": null,
            "left": null,
            "margin": null,
            "max_height": null,
            "max_width": null,
            "min_height": null,
            "min_width": null,
            "object_fit": null,
            "object_position": null,
            "order": null,
            "overflow": null,
            "overflow_x": null,
            "overflow_y": null,
            "padding": null,
            "right": null,
            "top": null,
            "visibility": null,
            "width": null
          }
        },
        "d681f6d4d0a54b038803dde7992f3146": {
          "model_module": "@jupyter-widgets/base",
          "model_name": "LayoutModel",
          "model_module_version": "1.2.0",
          "state": {
            "_model_module": "@jupyter-widgets/base",
            "_model_module_version": "1.2.0",
            "_model_name": "LayoutModel",
            "_view_count": null,
            "_view_module": "@jupyter-widgets/base",
            "_view_module_version": "1.2.0",
            "_view_name": "LayoutView",
            "align_content": null,
            "align_items": null,
            "align_self": null,
            "border": null,
            "bottom": null,
            "display": null,
            "flex": null,
            "flex_flow": null,
            "grid_area": null,
            "grid_auto_columns": null,
            "grid_auto_flow": null,
            "grid_auto_rows": null,
            "grid_column": null,
            "grid_gap": null,
            "grid_row": null,
            "grid_template_areas": null,
            "grid_template_columns": null,
            "grid_template_rows": null,
            "height": null,
            "justify_content": null,
            "justify_items": null,
            "left": null,
            "margin": null,
            "max_height": null,
            "max_width": null,
            "min_height": null,
            "min_width": null,
            "object_fit": null,
            "object_position": null,
            "order": null,
            "overflow": null,
            "overflow_x": null,
            "overflow_y": null,
            "padding": null,
            "right": null,
            "top": null,
            "visibility": null,
            "width": null
          }
        },
        "724b0a6f9db2456a89abab7934ff5865": {
          "model_module": "@jupyter-widgets/controls",
          "model_name": "DescriptionStyleModel",
          "model_module_version": "1.5.0",
          "state": {
            "_model_module": "@jupyter-widgets/controls",
            "_model_module_version": "1.5.0",
            "_model_name": "DescriptionStyleModel",
            "_view_count": null,
            "_view_module": "@jupyter-widgets/base",
            "_view_module_version": "1.2.0",
            "_view_name": "StyleView",
            "description_width": ""
          }
        },
        "62ad9584b61642c0864b5f23eb1438da": {
          "model_module": "@jupyter-widgets/base",
          "model_name": "LayoutModel",
          "model_module_version": "1.2.0",
          "state": {
            "_model_module": "@jupyter-widgets/base",
            "_model_module_version": "1.2.0",
            "_model_name": "LayoutModel",
            "_view_count": null,
            "_view_module": "@jupyter-widgets/base",
            "_view_module_version": "1.2.0",
            "_view_name": "LayoutView",
            "align_content": null,
            "align_items": null,
            "align_self": null,
            "border": null,
            "bottom": null,
            "display": null,
            "flex": null,
            "flex_flow": null,
            "grid_area": null,
            "grid_auto_columns": null,
            "grid_auto_flow": null,
            "grid_auto_rows": null,
            "grid_column": null,
            "grid_gap": null,
            "grid_row": null,
            "grid_template_areas": null,
            "grid_template_columns": null,
            "grid_template_rows": null,
            "height": null,
            "justify_content": null,
            "justify_items": null,
            "left": null,
            "margin": null,
            "max_height": null,
            "max_width": null,
            "min_height": null,
            "min_width": null,
            "object_fit": null,
            "object_position": null,
            "order": null,
            "overflow": null,
            "overflow_x": null,
            "overflow_y": null,
            "padding": null,
            "right": null,
            "top": null,
            "visibility": null,
            "width": null
          }
        },
        "65c765d0703d486784cd8a29e6faccb4": {
          "model_module": "@jupyter-widgets/controls",
          "model_name": "ProgressStyleModel",
          "model_module_version": "1.5.0",
          "state": {
            "_model_module": "@jupyter-widgets/controls",
            "_model_module_version": "1.5.0",
            "_model_name": "ProgressStyleModel",
            "_view_count": null,
            "_view_module": "@jupyter-widgets/base",
            "_view_module_version": "1.2.0",
            "_view_name": "StyleView",
            "bar_color": null,
            "description_width": ""
          }
        },
        "38ef07078d9d42219676ce4c0d8aa4dd": {
          "model_module": "@jupyter-widgets/base",
          "model_name": "LayoutModel",
          "model_module_version": "1.2.0",
          "state": {
            "_model_module": "@jupyter-widgets/base",
            "_model_module_version": "1.2.0",
            "_model_name": "LayoutModel",
            "_view_count": null,
            "_view_module": "@jupyter-widgets/base",
            "_view_module_version": "1.2.0",
            "_view_name": "LayoutView",
            "align_content": null,
            "align_items": null,
            "align_self": null,
            "border": null,
            "bottom": null,
            "display": null,
            "flex": null,
            "flex_flow": null,
            "grid_area": null,
            "grid_auto_columns": null,
            "grid_auto_flow": null,
            "grid_auto_rows": null,
            "grid_column": null,
            "grid_gap": null,
            "grid_row": null,
            "grid_template_areas": null,
            "grid_template_columns": null,
            "grid_template_rows": null,
            "height": null,
            "justify_content": null,
            "justify_items": null,
            "left": null,
            "margin": null,
            "max_height": null,
            "max_width": null,
            "min_height": null,
            "min_width": null,
            "object_fit": null,
            "object_position": null,
            "order": null,
            "overflow": null,
            "overflow_x": null,
            "overflow_y": null,
            "padding": null,
            "right": null,
            "top": null,
            "visibility": null,
            "width": null
          }
        },
        "d597ff897547459285996cf320db4d29": {
          "model_module": "@jupyter-widgets/controls",
          "model_name": "DescriptionStyleModel",
          "model_module_version": "1.5.0",
          "state": {
            "_model_module": "@jupyter-widgets/controls",
            "_model_module_version": "1.5.0",
            "_model_name": "DescriptionStyleModel",
            "_view_count": null,
            "_view_module": "@jupyter-widgets/base",
            "_view_module_version": "1.2.0",
            "_view_name": "StyleView",
            "description_width": ""
          }
        },
        "482da0dc9bb94e96b66f73d8bff06023": {
          "model_module": "@jupyter-widgets/controls",
          "model_name": "HBoxModel",
          "model_module_version": "1.5.0",
          "state": {
            "_dom_classes": [],
            "_model_module": "@jupyter-widgets/controls",
            "_model_module_version": "1.5.0",
            "_model_name": "HBoxModel",
            "_view_count": null,
            "_view_module": "@jupyter-widgets/controls",
            "_view_module_version": "1.5.0",
            "_view_name": "HBoxView",
            "box_style": "",
            "children": [
              "IPY_MODEL_50373d2fc2e84fa5aa35ff8c2f600c5b",
              "IPY_MODEL_a3e41c870e2640d0b644551d5e5d4574",
              "IPY_MODEL_8895d17e5c7b49aabf73f3a138735ec3"
            ],
            "layout": "IPY_MODEL_d6abcdbbb5594e6f9bebaab3beae2ba5"
          }
        },
        "50373d2fc2e84fa5aa35ff8c2f600c5b": {
          "model_module": "@jupyter-widgets/controls",
          "model_name": "HTMLModel",
          "model_module_version": "1.5.0",
          "state": {
            "_dom_classes": [],
            "_model_module": "@jupyter-widgets/controls",
            "_model_module_version": "1.5.0",
            "_model_name": "HTMLModel",
            "_view_count": null,
            "_view_module": "@jupyter-widgets/controls",
            "_view_module_version": "1.5.0",
            "_view_name": "HTMLView",
            "description": "",
            "description_tooltip": null,
            "layout": "IPY_MODEL_9c856fd75ba849e3a0d4fb51acdafca5",
            "placeholder": "​",
            "style": "IPY_MODEL_0d4e046b8b594b719896af6bee060c28",
            "value": "100%"
          }
        },
        "a3e41c870e2640d0b644551d5e5d4574": {
          "model_module": "@jupyter-widgets/controls",
          "model_name": "FloatProgressModel",
          "model_module_version": "1.5.0",
          "state": {
            "_dom_classes": [],
            "_model_module": "@jupyter-widgets/controls",
            "_model_module_version": "1.5.0",
            "_model_name": "FloatProgressModel",
            "_view_count": null,
            "_view_module": "@jupyter-widgets/controls",
            "_view_module_version": "1.5.0",
            "_view_name": "ProgressView",
            "bar_style": "success",
            "description": "",
            "description_tooltip": null,
            "layout": "IPY_MODEL_497ff93625a64e5cb13162a2c95c07ca",
            "max": 30,
            "min": 0,
            "orientation": "horizontal",
            "style": "IPY_MODEL_82e9aabfd9a04a77889bcc1571f2befe",
            "value": 30
          }
        },
        "8895d17e5c7b49aabf73f3a138735ec3": {
          "model_module": "@jupyter-widgets/controls",
          "model_name": "HTMLModel",
          "model_module_version": "1.5.0",
          "state": {
            "_dom_classes": [],
            "_model_module": "@jupyter-widgets/controls",
            "_model_module_version": "1.5.0",
            "_model_name": "HTMLModel",
            "_view_count": null,
            "_view_module": "@jupyter-widgets/controls",
            "_view_module_version": "1.5.0",
            "_view_name": "HTMLView",
            "description": "",
            "description_tooltip": null,
            "layout": "IPY_MODEL_3b1d9ee76af940feb4e570fce8a05554",
            "placeholder": "​",
            "style": "IPY_MODEL_810765f096f949fe884a9ac1e330a65f",
            "value": " 30/30 [00:00&lt;00:00, 89.65it/s]"
          }
        },
        "d6abcdbbb5594e6f9bebaab3beae2ba5": {
          "model_module": "@jupyter-widgets/base",
          "model_name": "LayoutModel",
          "model_module_version": "1.2.0",
          "state": {
            "_model_module": "@jupyter-widgets/base",
            "_model_module_version": "1.2.0",
            "_model_name": "LayoutModel",
            "_view_count": null,
            "_view_module": "@jupyter-widgets/base",
            "_view_module_version": "1.2.0",
            "_view_name": "LayoutView",
            "align_content": null,
            "align_items": null,
            "align_self": null,
            "border": null,
            "bottom": null,
            "display": null,
            "flex": null,
            "flex_flow": null,
            "grid_area": null,
            "grid_auto_columns": null,
            "grid_auto_flow": null,
            "grid_auto_rows": null,
            "grid_column": null,
            "grid_gap": null,
            "grid_row": null,
            "grid_template_areas": null,
            "grid_template_columns": null,
            "grid_template_rows": null,
            "height": null,
            "justify_content": null,
            "justify_items": null,
            "left": null,
            "margin": null,
            "max_height": null,
            "max_width": null,
            "min_height": null,
            "min_width": null,
            "object_fit": null,
            "object_position": null,
            "order": null,
            "overflow": null,
            "overflow_x": null,
            "overflow_y": null,
            "padding": null,
            "right": null,
            "top": null,
            "visibility": null,
            "width": null
          }
        },
        "9c856fd75ba849e3a0d4fb51acdafca5": {
          "model_module": "@jupyter-widgets/base",
          "model_name": "LayoutModel",
          "model_module_version": "1.2.0",
          "state": {
            "_model_module": "@jupyter-widgets/base",
            "_model_module_version": "1.2.0",
            "_model_name": "LayoutModel",
            "_view_count": null,
            "_view_module": "@jupyter-widgets/base",
            "_view_module_version": "1.2.0",
            "_view_name": "LayoutView",
            "align_content": null,
            "align_items": null,
            "align_self": null,
            "border": null,
            "bottom": null,
            "display": null,
            "flex": null,
            "flex_flow": null,
            "grid_area": null,
            "grid_auto_columns": null,
            "grid_auto_flow": null,
            "grid_auto_rows": null,
            "grid_column": null,
            "grid_gap": null,
            "grid_row": null,
            "grid_template_areas": null,
            "grid_template_columns": null,
            "grid_template_rows": null,
            "height": null,
            "justify_content": null,
            "justify_items": null,
            "left": null,
            "margin": null,
            "max_height": null,
            "max_width": null,
            "min_height": null,
            "min_width": null,
            "object_fit": null,
            "object_position": null,
            "order": null,
            "overflow": null,
            "overflow_x": null,
            "overflow_y": null,
            "padding": null,
            "right": null,
            "top": null,
            "visibility": null,
            "width": null
          }
        },
        "0d4e046b8b594b719896af6bee060c28": {
          "model_module": "@jupyter-widgets/controls",
          "model_name": "DescriptionStyleModel",
          "model_module_version": "1.5.0",
          "state": {
            "_model_module": "@jupyter-widgets/controls",
            "_model_module_version": "1.5.0",
            "_model_name": "DescriptionStyleModel",
            "_view_count": null,
            "_view_module": "@jupyter-widgets/base",
            "_view_module_version": "1.2.0",
            "_view_name": "StyleView",
            "description_width": ""
          }
        },
        "497ff93625a64e5cb13162a2c95c07ca": {
          "model_module": "@jupyter-widgets/base",
          "model_name": "LayoutModel",
          "model_module_version": "1.2.0",
          "state": {
            "_model_module": "@jupyter-widgets/base",
            "_model_module_version": "1.2.0",
            "_model_name": "LayoutModel",
            "_view_count": null,
            "_view_module": "@jupyter-widgets/base",
            "_view_module_version": "1.2.0",
            "_view_name": "LayoutView",
            "align_content": null,
            "align_items": null,
            "align_self": null,
            "border": null,
            "bottom": null,
            "display": null,
            "flex": null,
            "flex_flow": null,
            "grid_area": null,
            "grid_auto_columns": null,
            "grid_auto_flow": null,
            "grid_auto_rows": null,
            "grid_column": null,
            "grid_gap": null,
            "grid_row": null,
            "grid_template_areas": null,
            "grid_template_columns": null,
            "grid_template_rows": null,
            "height": null,
            "justify_content": null,
            "justify_items": null,
            "left": null,
            "margin": null,
            "max_height": null,
            "max_width": null,
            "min_height": null,
            "min_width": null,
            "object_fit": null,
            "object_position": null,
            "order": null,
            "overflow": null,
            "overflow_x": null,
            "overflow_y": null,
            "padding": null,
            "right": null,
            "top": null,
            "visibility": null,
            "width": null
          }
        },
        "82e9aabfd9a04a77889bcc1571f2befe": {
          "model_module": "@jupyter-widgets/controls",
          "model_name": "ProgressStyleModel",
          "model_module_version": "1.5.0",
          "state": {
            "_model_module": "@jupyter-widgets/controls",
            "_model_module_version": "1.5.0",
            "_model_name": "ProgressStyleModel",
            "_view_count": null,
            "_view_module": "@jupyter-widgets/base",
            "_view_module_version": "1.2.0",
            "_view_name": "StyleView",
            "bar_color": null,
            "description_width": ""
          }
        },
        "3b1d9ee76af940feb4e570fce8a05554": {
          "model_module": "@jupyter-widgets/base",
          "model_name": "LayoutModel",
          "model_module_version": "1.2.0",
          "state": {
            "_model_module": "@jupyter-widgets/base",
            "_model_module_version": "1.2.0",
            "_model_name": "LayoutModel",
            "_view_count": null,
            "_view_module": "@jupyter-widgets/base",
            "_view_module_version": "1.2.0",
            "_view_name": "LayoutView",
            "align_content": null,
            "align_items": null,
            "align_self": null,
            "border": null,
            "bottom": null,
            "display": null,
            "flex": null,
            "flex_flow": null,
            "grid_area": null,
            "grid_auto_columns": null,
            "grid_auto_flow": null,
            "grid_auto_rows": null,
            "grid_column": null,
            "grid_gap": null,
            "grid_row": null,
            "grid_template_areas": null,
            "grid_template_columns": null,
            "grid_template_rows": null,
            "height": null,
            "justify_content": null,
            "justify_items": null,
            "left": null,
            "margin": null,
            "max_height": null,
            "max_width": null,
            "min_height": null,
            "min_width": null,
            "object_fit": null,
            "object_position": null,
            "order": null,
            "overflow": null,
            "overflow_x": null,
            "overflow_y": null,
            "padding": null,
            "right": null,
            "top": null,
            "visibility": null,
            "width": null
          }
        },
        "810765f096f949fe884a9ac1e330a65f": {
          "model_module": "@jupyter-widgets/controls",
          "model_name": "DescriptionStyleModel",
          "model_module_version": "1.5.0",
          "state": {
            "_model_module": "@jupyter-widgets/controls",
            "_model_module_version": "1.5.0",
            "_model_name": "DescriptionStyleModel",
            "_view_count": null,
            "_view_module": "@jupyter-widgets/base",
            "_view_module_version": "1.2.0",
            "_view_name": "StyleView",
            "description_width": ""
          }
        }
      }
    },
    "accelerator": "GPU"
  },
  "nbformat": 4,
  "nbformat_minor": 0
}